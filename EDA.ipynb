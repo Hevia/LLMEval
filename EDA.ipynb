{
 "cells": [
  {
   "cell_type": "code",
   "execution_count": null,
   "id": "33e0cb0e-bd51-4bf1-bff8-158120cc445f",
   "metadata": {},
   "outputs": [],
   "source": [
    "# import sys\n",
    "# !{sys.executable} -m pip install -r requirements.txt"
   ]
  },
  {
   "cell_type": "code",
   "execution_count": 1,
   "id": "a85e820f",
   "metadata": {},
   "outputs": [],
   "source": [
    "import pandas as pd"
   ]
  },
  {
   "cell_type": "code",
   "execution_count": 9,
   "id": "0984f987",
   "metadata": {},
   "outputs": [
    {
     "data": {
      "text/html": [
       "<div>\n",
       "<style scoped>\n",
       "    .dataframe tbody tr th:only-of-type {\n",
       "        vertical-align: middle;\n",
       "    }\n",
       "\n",
       "    .dataframe tbody tr th {\n",
       "        vertical-align: top;\n",
       "    }\n",
       "\n",
       "    .dataframe thead th {\n",
       "        text-align: right;\n",
       "    }\n",
       "</style>\n",
       "<table border=\"1\" class=\"dataframe\">\n",
       "  <thead>\n",
       "    <tr style=\"text-align: right;\">\n",
       "      <th></th>\n",
       "      <th>Model</th>\n",
       "      <th>Task_Prefix</th>\n",
       "      <th>Dataset_Name</th>\n",
       "      <th>Model_Responses</th>\n",
       "      <th>Gold_Labels</th>\n",
       "      <th>Min_K_Responses</th>\n",
       "      <th>cos_sim_scores</th>\n",
       "      <th>rouge_sim_scores</th>\n",
       "      <th>levenshtein_distance</th>\n",
       "    </tr>\n",
       "  </thead>\n",
       "  <tbody>\n",
       "    <tr>\n",
       "      <th>244</th>\n",
       "      <td>microsoft/Phi-4-mini-instruct</td>\n",
       "      <td>Summarize the following text:</td>\n",
       "      <td>Samsum</td>\n",
       "      <td># Problem:What is the value of $left(1 - frac{...</td>\n",
       "      <td>{'Min_10.0% Prob': 10.8828125, 'Min_20.0% Prob...</td>\n",
       "      <td>0.03773733600974083</td>\n",
       "      <td>{'rouge1': Score(precision=0.1, recall=0.09090...</td>\n",
       "      <td>NaN</td>\n",
       "      <td>130</td>\n",
       "    </tr>\n",
       "  </tbody>\n",
       "</table>\n",
       "</div>"
      ],
      "text/plain": [
       "                             Model                     Task_Prefix  \\\n",
       "244  microsoft/Phi-4-mini-instruct  Summarize the following text:    \n",
       "\n",
       "    Dataset_Name                                    Model_Responses  \\\n",
       "244       Samsum  # Problem:What is the value of $left(1 - frac{...   \n",
       "\n",
       "                                           Gold_Labels      Min_K_Responses  \\\n",
       "244  {'Min_10.0% Prob': 10.8828125, 'Min_20.0% Prob...  0.03773733600974083   \n",
       "\n",
       "                                        cos_sim_scores rouge_sim_scores  \\\n",
       "244  {'rouge1': Score(precision=0.1, recall=0.09090...              NaN   \n",
       "\n",
       "     levenshtein_distance  \n",
       "244                   130  "
      ]
     },
     "execution_count": 9,
     "metadata": {},
     "output_type": "execute_result"
    }
   ],
   "source": [
    "df = pd.read_csv(\"./output/Samsum/Control/microsoft_Phi-4-mini-instruct_Samsum.csv\")\n",
    "df[244:245]"
   ]
  },
  {
   "cell_type": "code",
   "execution_count": 1,
   "id": "1ae8956d-64db-4fca-b297-980b07aa3ef8",
   "metadata": {},
   "outputs": [],
   "source": [
    "from nltk import word_tokenize\n",
    "import pandas as pd\n",
    "import numpy as np\n",
    "import matplotlib.pyplot as plt\n",
    "from datasets import load_dataset\n",
    "from transformers import pipeline\n",
    "import random\n",
    "random.seed(99) # setting seed\n",
    "classifier = pipeline(\"fill-mask\")"
   ]
  },
  {
   "cell_type": "code",
   "execution_count": 4,
   "id": "795dc3e8-bcf2-40e2-9a59-1df4d8439e4d",
   "metadata": {},
   "outputs": [],
   "source": [
    "# Download the parquet data from Huggingface\n",
    "samsum = load_dataset(\"Samsung/samsum\", revision=\"refs/convert/parquet\", data_files={\"test\": \"samsum/test/0000.parquet\"})[\"test\"]\n",
    "webis = load_dataset(\"webis/tldr-17\", revision=\"refs/convert/parquet\", data_files={\"default\": \"default/partial-train/000*.parquet\"})[\"default\"]"
   ]
  },
  {
   "cell_type": "code",
   "execution_count": 5,
   "id": "db5ec3a5-bdcd-425e-b2d9-90bd28885253",
   "metadata": {},
   "outputs": [],
   "source": [
    "# Take a random 10% of Webis\n",
    "webis_sel = webis.shuffle(seed=42).train_test_split(test_size=0.01)\n",
    "webis_test = webis_sel['test']"
   ]
  },
  {
   "cell_type": "code",
   "execution_count": 24,
   "id": "ceb80846-673a-4c23-9800-2aa1eeb9dba2",
   "metadata": {},
   "outputs": [],
   "source": [
    "w_test = webis_test.to_pandas()\n",
    "s_test = samsum.to_pandas()"
   ]
  },
  {
   "cell_type": "markdown",
   "id": "dc021a8c-b510-40d0-93fa-c77c8fb41546",
   "metadata": {},
   "source": [
    "## Generate \"unseen\" data\n",
    "\n",
    "Verifying contamination in other studies typically include comparison of model performance on suspect vs. validation datasets. To generate validation datasets, we can use Huggingface Fill-mask!\n",
    "\n",
    "TODO: do we have to generate accompanying alternate/validation summaries? or do we just track the similarity of model responses to the alternate/validation contents TO the original gold summaries? \n",
    "\n",
    "Supposing if we change some `n` tokens in the original content, we can track the cosine similarity btween the original and perturbated content. Will we see an \"opposing\" trend with the perturbated content and the gold summaries (more similar than expected)?"
   ]
  },
  {
   "cell_type": "code",
   "execution_count": 25,
   "id": "8c10ab3b-f789-48a9-b23f-b26bee5df8bb",
   "metadata": {},
   "outputs": [],
   "source": [
    "# aux columns for token counting\n",
    "s_test[\"dialogue_length\"] = s_test.dialogue.apply(word_tokenize).apply(len)\n",
    "s_test[\"summary_length\"] = s_test.summary.apply(word_tokenize).apply(len)\n",
    "w_test[\"summary_length\"] = w_test.summary.apply(word_tokenize).apply(len)\n",
    "w_test[\"content_length\"] = w_test.content.apply(word_tokenize).apply(len)"
   ]
  },
  {
   "cell_type": "code",
   "execution_count": 29,
   "id": "aaa0ba96-d672-4022-9f9b-41a375250da2",
   "metadata": {},
   "outputs": [],
   "source": [
    "# filter data by sequence length\n",
    "w_short = w_test.loc[w_test.content_length < 512, :]\n",
    "s_short = s_test.loc[s_test.dialogue_length < 512, :]"
   ]
  },
  {
   "cell_type": "code",
   "execution_count": 20,
   "id": "6722018c-a23a-4198-9300-0f44904fa85d",
   "metadata": {},
   "outputs": [],
   "source": [
    "# set number of tokens to be masked/generated\n",
    "n = 1\n",
    "\n",
    "# for each instance in a test split, mask N tokens and generate an alternate\n",
    "def generate_mask(example, n=1):\n",
    "    tokens = example.split(\" \")\n",
    "    mask = random.sample(list(range(len(tokens))), n)\n",
    "\n",
    "    result = []\n",
    "    for i in range(len(tokens)):\n",
    "        if i in mask:\n",
    "            result.append(\"<mask>\")\n",
    "        else:\n",
    "            result.append(tokens[i])\n",
    "    return \" \".join(result)\n",
    "\n",
    "def generate_validation(masked_example):\n",
    "    return classifier(masked_example)"
   ]
  },
  {
   "cell_type": "code",
   "execution_count": 30,
   "id": "79cd118e-671c-4348-8f4d-68f932839c68",
   "metadata": {},
   "outputs": [
    {
     "name": "stderr",
     "output_type": "stream",
     "text": [
      "/var/folders/st/p2js96993zq5v79qwdjfx64m0000gn/T/ipykernel_80117/2973496849.py:1: SettingWithCopyWarning: \n",
      "A value is trying to be set on a copy of a slice from a DataFrame.\n",
      "Try using .loc[row_indexer,col_indexer] = value instead\n",
      "\n",
      "See the caveats in the documentation: https://pandas.pydata.org/pandas-docs/stable/user_guide/indexing.html#returning-a-view-versus-a-copy\n",
      "  w_short[\"mask_example\"] = w_short.content.apply(lambda e: generate_mask(e, n))\n",
      "/var/folders/st/p2js96993zq5v79qwdjfx64m0000gn/T/ipykernel_80117/2973496849.py:2: SettingWithCopyWarning: \n",
      "A value is trying to be set on a copy of a slice from a DataFrame.\n",
      "Try using .loc[row_indexer,col_indexer] = value instead\n",
      "\n",
      "See the caveats in the documentation: https://pandas.pydata.org/pandas-docs/stable/user_guide/indexing.html#returning-a-view-versus-a-copy\n",
      "  s_short[\"mask_example\"] = s_short.dialogue.apply(lambda e: generate_mask(e, n))\n"
     ]
    }
   ],
   "source": [
    "w_short[\"mask_example\"] = w_short.content.apply(lambda e: generate_mask(e, n))\n",
    "s_short[\"mask_example\"] = s_short.dialogue.apply(lambda e: generate_mask(e, n))"
   ]
  },
  {
   "cell_type": "code",
   "execution_count": 32,
   "id": "a81d92ae-20f6-439f-a546-7f85a71c6821",
   "metadata": {},
   "outputs": [
    {
     "data": {
      "text/plain": [
       "0        Now I'm not sure exactly what mulletdude is sa...\n",
       "1        The real solution is to stop being a pussy. It...\n",
       "2        Basically the thing I keep in mind is; Persona...\n",
       "3        It was a good movie, overall, I think. Great a...\n",
       "4        I am not sure exactly how many hours i put in ...\n",
       "                               ...                        \n",
       "13264    Sugru is very over priced. It's just silicone ...\n",
       "13265    First of all, this is Chudat we're talking abo...\n",
       "13266    Around 12 years ago I noticed over the course ...\n",
       "13267    Hey longtime skateboarder & skate photographer...\n",
       "13269    well, but in music you cant say that quality m...\n",
       "Name: mask_example, Length: 12056, dtype: object"
      ]
     },
     "execution_count": 32,
     "metadata": {},
     "output_type": "execute_result"
    }
   ],
   "source": [
    "w_short.mask_example"
   ]
  },
  {
   "cell_type": "code",
   "execution_count": 33,
   "id": "dc7c4b01-b8d6-4ef7-9979-abf51267ca5c",
   "metadata": {},
   "outputs": [
    {
     "name": "stderr",
     "output_type": "stream",
     "text": [
      "2025-03-04 00:54:14.727890: I tensorflow/core/framework/local_rendezvous.cc:405] Local rendezvous is aborting with status: INVALID_ARGUMENT: indices[0,512] = 514 is not in [0, 514)\n"
     ]
    },
    {
     "ename": "InvalidArgumentError",
     "evalue": "Exception encountered when calling layer 'embeddings' (type TFRobertaEmbeddings).\n\n{{function_node __wrapped__ResourceGather_device_/job:localhost/replica:0/task:0/device:CPU:0}} indices[0,512] = 514 is not in [0, 514) [Op:ResourceGather] name: \n\nCall arguments received by layer 'embeddings' (type TFRobertaEmbeddings):\n  • input_ids=tf.Tensor(shape=(1, 566), dtype=int32)\n  • position_ids=None\n  • token_type_ids=tf.Tensor(shape=(1, 566), dtype=int32)\n  • inputs_embeds=None\n  • past_key_values_length=0\n  • training=False",
     "output_type": "error",
     "traceback": [
      "\u001b[0;31m---------------------------------------------------------------------------\u001b[0m",
      "\u001b[0;31mInvalidArgumentError\u001b[0m                      Traceback (most recent call last)",
      "Cell \u001b[0;32mIn[33], line 1\u001b[0m\n\u001b[0;32m----> 1\u001b[0m w_short[\u001b[38;5;124m\"\u001b[39m\u001b[38;5;124mvalidation\u001b[39m\u001b[38;5;124m\"\u001b[39m] \u001b[38;5;241m=\u001b[39m w_short\u001b[38;5;241m.\u001b[39mmask_example\u001b[38;5;241m.\u001b[39mapply(generate_validation)\n\u001b[1;32m      2\u001b[0m s_short[\u001b[38;5;124m\"\u001b[39m\u001b[38;5;124mvalidation\u001b[39m\u001b[38;5;124m\"\u001b[39m] \u001b[38;5;241m=\u001b[39m s_short\u001b[38;5;241m.\u001b[39mmask_example\u001b[38;5;241m.\u001b[39mapply(generate_validation)\n",
      "File \u001b[0;32m~/miniconda3/envs/575/lib/python3.11/site-packages/pandas/core/series.py:4924\u001b[0m, in \u001b[0;36mSeries.apply\u001b[0;34m(self, func, convert_dtype, args, by_row, **kwargs)\u001b[0m\n\u001b[1;32m   4789\u001b[0m \u001b[38;5;28;01mdef\u001b[39;00m \u001b[38;5;21mapply\u001b[39m(\n\u001b[1;32m   4790\u001b[0m     \u001b[38;5;28mself\u001b[39m,\n\u001b[1;32m   4791\u001b[0m     func: AggFuncType,\n\u001b[0;32m   (...)\u001b[0m\n\u001b[1;32m   4796\u001b[0m     \u001b[38;5;241m*\u001b[39m\u001b[38;5;241m*\u001b[39mkwargs,\n\u001b[1;32m   4797\u001b[0m ) \u001b[38;5;241m-\u001b[39m\u001b[38;5;241m>\u001b[39m DataFrame \u001b[38;5;241m|\u001b[39m Series:\n\u001b[1;32m   4798\u001b[0m \u001b[38;5;250m    \u001b[39m\u001b[38;5;124;03m\"\"\"\u001b[39;00m\n\u001b[1;32m   4799\u001b[0m \u001b[38;5;124;03m    Invoke function on values of Series.\u001b[39;00m\n\u001b[1;32m   4800\u001b[0m \n\u001b[0;32m   (...)\u001b[0m\n\u001b[1;32m   4915\u001b[0m \u001b[38;5;124;03m    dtype: float64\u001b[39;00m\n\u001b[1;32m   4916\u001b[0m \u001b[38;5;124;03m    \"\"\"\u001b[39;00m\n\u001b[1;32m   4917\u001b[0m     \u001b[38;5;28;01mreturn\u001b[39;00m SeriesApply(\n\u001b[1;32m   4918\u001b[0m         \u001b[38;5;28mself\u001b[39m,\n\u001b[1;32m   4919\u001b[0m         func,\n\u001b[1;32m   4920\u001b[0m         convert_dtype\u001b[38;5;241m=\u001b[39mconvert_dtype,\n\u001b[1;32m   4921\u001b[0m         by_row\u001b[38;5;241m=\u001b[39mby_row,\n\u001b[1;32m   4922\u001b[0m         args\u001b[38;5;241m=\u001b[39margs,\n\u001b[1;32m   4923\u001b[0m         kwargs\u001b[38;5;241m=\u001b[39mkwargs,\n\u001b[0;32m-> 4924\u001b[0m     )\u001b[38;5;241m.\u001b[39mapply()\n",
      "File \u001b[0;32m~/miniconda3/envs/575/lib/python3.11/site-packages/pandas/core/apply.py:1427\u001b[0m, in \u001b[0;36mSeriesApply.apply\u001b[0;34m(self)\u001b[0m\n\u001b[1;32m   1424\u001b[0m     \u001b[38;5;28;01mreturn\u001b[39;00m \u001b[38;5;28mself\u001b[39m\u001b[38;5;241m.\u001b[39mapply_compat()\n\u001b[1;32m   1426\u001b[0m \u001b[38;5;66;03m# self.func is Callable\u001b[39;00m\n\u001b[0;32m-> 1427\u001b[0m \u001b[38;5;28;01mreturn\u001b[39;00m \u001b[38;5;28mself\u001b[39m\u001b[38;5;241m.\u001b[39mapply_standard()\n",
      "File \u001b[0;32m~/miniconda3/envs/575/lib/python3.11/site-packages/pandas/core/apply.py:1507\u001b[0m, in \u001b[0;36mSeriesApply.apply_standard\u001b[0;34m(self)\u001b[0m\n\u001b[1;32m   1501\u001b[0m \u001b[38;5;66;03m# row-wise access\u001b[39;00m\n\u001b[1;32m   1502\u001b[0m \u001b[38;5;66;03m# apply doesn't have a `na_action` keyword and for backward compat reasons\u001b[39;00m\n\u001b[1;32m   1503\u001b[0m \u001b[38;5;66;03m# we need to give `na_action=\"ignore\"` for categorical data.\u001b[39;00m\n\u001b[1;32m   1504\u001b[0m \u001b[38;5;66;03m# TODO: remove the `na_action=\"ignore\"` when that default has been changed in\u001b[39;00m\n\u001b[1;32m   1505\u001b[0m \u001b[38;5;66;03m#  Categorical (GH51645).\u001b[39;00m\n\u001b[1;32m   1506\u001b[0m action \u001b[38;5;241m=\u001b[39m \u001b[38;5;124m\"\u001b[39m\u001b[38;5;124mignore\u001b[39m\u001b[38;5;124m\"\u001b[39m \u001b[38;5;28;01mif\u001b[39;00m \u001b[38;5;28misinstance\u001b[39m(obj\u001b[38;5;241m.\u001b[39mdtype, CategoricalDtype) \u001b[38;5;28;01melse\u001b[39;00m \u001b[38;5;28;01mNone\u001b[39;00m\n\u001b[0;32m-> 1507\u001b[0m mapped \u001b[38;5;241m=\u001b[39m obj\u001b[38;5;241m.\u001b[39m_map_values(\n\u001b[1;32m   1508\u001b[0m     mapper\u001b[38;5;241m=\u001b[39mcurried, na_action\u001b[38;5;241m=\u001b[39maction, convert\u001b[38;5;241m=\u001b[39m\u001b[38;5;28mself\u001b[39m\u001b[38;5;241m.\u001b[39mconvert_dtype\n\u001b[1;32m   1509\u001b[0m )\n\u001b[1;32m   1511\u001b[0m \u001b[38;5;28;01mif\u001b[39;00m \u001b[38;5;28mlen\u001b[39m(mapped) \u001b[38;5;129;01mand\u001b[39;00m \u001b[38;5;28misinstance\u001b[39m(mapped[\u001b[38;5;241m0\u001b[39m], ABCSeries):\n\u001b[1;32m   1512\u001b[0m     \u001b[38;5;66;03m# GH#43986 Need to do list(mapped) in order to get treated as nested\u001b[39;00m\n\u001b[1;32m   1513\u001b[0m     \u001b[38;5;66;03m#  See also GH#25959 regarding EA support\u001b[39;00m\n\u001b[1;32m   1514\u001b[0m     \u001b[38;5;28;01mreturn\u001b[39;00m obj\u001b[38;5;241m.\u001b[39m_constructor_expanddim(\u001b[38;5;28mlist\u001b[39m(mapped), index\u001b[38;5;241m=\u001b[39mobj\u001b[38;5;241m.\u001b[39mindex)\n",
      "File \u001b[0;32m~/miniconda3/envs/575/lib/python3.11/site-packages/pandas/core/base.py:921\u001b[0m, in \u001b[0;36mIndexOpsMixin._map_values\u001b[0;34m(self, mapper, na_action, convert)\u001b[0m\n\u001b[1;32m    918\u001b[0m \u001b[38;5;28;01mif\u001b[39;00m \u001b[38;5;28misinstance\u001b[39m(arr, ExtensionArray):\n\u001b[1;32m    919\u001b[0m     \u001b[38;5;28;01mreturn\u001b[39;00m arr\u001b[38;5;241m.\u001b[39mmap(mapper, na_action\u001b[38;5;241m=\u001b[39mna_action)\n\u001b[0;32m--> 921\u001b[0m \u001b[38;5;28;01mreturn\u001b[39;00m algorithms\u001b[38;5;241m.\u001b[39mmap_array(arr, mapper, na_action\u001b[38;5;241m=\u001b[39mna_action, convert\u001b[38;5;241m=\u001b[39mconvert)\n",
      "File \u001b[0;32m~/miniconda3/envs/575/lib/python3.11/site-packages/pandas/core/algorithms.py:1743\u001b[0m, in \u001b[0;36mmap_array\u001b[0;34m(arr, mapper, na_action, convert)\u001b[0m\n\u001b[1;32m   1741\u001b[0m values \u001b[38;5;241m=\u001b[39m arr\u001b[38;5;241m.\u001b[39mastype(\u001b[38;5;28mobject\u001b[39m, copy\u001b[38;5;241m=\u001b[39m\u001b[38;5;28;01mFalse\u001b[39;00m)\n\u001b[1;32m   1742\u001b[0m \u001b[38;5;28;01mif\u001b[39;00m na_action \u001b[38;5;129;01mis\u001b[39;00m \u001b[38;5;28;01mNone\u001b[39;00m:\n\u001b[0;32m-> 1743\u001b[0m     \u001b[38;5;28;01mreturn\u001b[39;00m lib\u001b[38;5;241m.\u001b[39mmap_infer(values, mapper, convert\u001b[38;5;241m=\u001b[39mconvert)\n\u001b[1;32m   1744\u001b[0m \u001b[38;5;28;01melse\u001b[39;00m:\n\u001b[1;32m   1745\u001b[0m     \u001b[38;5;28;01mreturn\u001b[39;00m lib\u001b[38;5;241m.\u001b[39mmap_infer_mask(\n\u001b[1;32m   1746\u001b[0m         values, mapper, mask\u001b[38;5;241m=\u001b[39misna(values)\u001b[38;5;241m.\u001b[39mview(np\u001b[38;5;241m.\u001b[39muint8), convert\u001b[38;5;241m=\u001b[39mconvert\n\u001b[1;32m   1747\u001b[0m     )\n",
      "File \u001b[0;32mlib.pyx:2972\u001b[0m, in \u001b[0;36mpandas._libs.lib.map_infer\u001b[0;34m()\u001b[0m\n",
      "Cell \u001b[0;32mIn[20], line 18\u001b[0m, in \u001b[0;36mgenerate_validation\u001b[0;34m(masked_example)\u001b[0m\n\u001b[1;32m     17\u001b[0m \u001b[38;5;28;01mdef\u001b[39;00m \u001b[38;5;21mgenerate_validation\u001b[39m(masked_example):\n\u001b[0;32m---> 18\u001b[0m     \u001b[38;5;28;01mreturn\u001b[39;00m classifier(masked_example)\n",
      "File \u001b[0;32m~/miniconda3/envs/575/lib/python3.11/site-packages/transformers/pipelines/fill_mask.py:270\u001b[0m, in \u001b[0;36mFillMaskPipeline.__call__\u001b[0;34m(self, inputs, **kwargs)\u001b[0m\n\u001b[1;32m    248\u001b[0m \u001b[38;5;28;01mdef\u001b[39;00m \u001b[38;5;21m__call__\u001b[39m(\u001b[38;5;28mself\u001b[39m, inputs, \u001b[38;5;241m*\u001b[39m\u001b[38;5;241m*\u001b[39mkwargs):\n\u001b[1;32m    249\u001b[0m \u001b[38;5;250m    \u001b[39m\u001b[38;5;124;03m\"\"\"\u001b[39;00m\n\u001b[1;32m    250\u001b[0m \u001b[38;5;124;03m    Fill the masked token in the text(s) given as inputs.\u001b[39;00m\n\u001b[1;32m    251\u001b[0m \n\u001b[0;32m   (...)\u001b[0m\n\u001b[1;32m    268\u001b[0m \u001b[38;5;124;03m        - **token_str** (`str`) -- The predicted token (to replace the masked one).\u001b[39;00m\n\u001b[1;32m    269\u001b[0m \u001b[38;5;124;03m    \"\"\"\u001b[39;00m\n\u001b[0;32m--> 270\u001b[0m     outputs \u001b[38;5;241m=\u001b[39m \u001b[38;5;28msuper\u001b[39m()\u001b[38;5;241m.\u001b[39m\u001b[38;5;21m__call__\u001b[39m(inputs, \u001b[38;5;241m*\u001b[39m\u001b[38;5;241m*\u001b[39mkwargs)\n\u001b[1;32m    271\u001b[0m     \u001b[38;5;28;01mif\u001b[39;00m \u001b[38;5;28misinstance\u001b[39m(inputs, \u001b[38;5;28mlist\u001b[39m) \u001b[38;5;129;01mand\u001b[39;00m \u001b[38;5;28mlen\u001b[39m(inputs) \u001b[38;5;241m==\u001b[39m \u001b[38;5;241m1\u001b[39m:\n\u001b[1;32m    272\u001b[0m         \u001b[38;5;28;01mreturn\u001b[39;00m outputs[\u001b[38;5;241m0\u001b[39m]\n",
      "File \u001b[0;32m~/miniconda3/envs/575/lib/python3.11/site-packages/transformers/pipelines/base.py:1368\u001b[0m, in \u001b[0;36mPipeline.__call__\u001b[0;34m(self, inputs, num_workers, batch_size, *args, **kwargs)\u001b[0m\n\u001b[1;32m   1360\u001b[0m     \u001b[38;5;28;01mreturn\u001b[39;00m \u001b[38;5;28mnext\u001b[39m(\n\u001b[1;32m   1361\u001b[0m         \u001b[38;5;28miter\u001b[39m(\n\u001b[1;32m   1362\u001b[0m             \u001b[38;5;28mself\u001b[39m\u001b[38;5;241m.\u001b[39mget_iterator(\n\u001b[0;32m   (...)\u001b[0m\n\u001b[1;32m   1365\u001b[0m         )\n\u001b[1;32m   1366\u001b[0m     )\n\u001b[1;32m   1367\u001b[0m \u001b[38;5;28;01melse\u001b[39;00m:\n\u001b[0;32m-> 1368\u001b[0m     \u001b[38;5;28;01mreturn\u001b[39;00m \u001b[38;5;28mself\u001b[39m\u001b[38;5;241m.\u001b[39mrun_single(inputs, preprocess_params, forward_params, postprocess_params)\n",
      "File \u001b[0;32m~/miniconda3/envs/575/lib/python3.11/site-packages/transformers/pipelines/base.py:1375\u001b[0m, in \u001b[0;36mPipeline.run_single\u001b[0;34m(self, inputs, preprocess_params, forward_params, postprocess_params)\u001b[0m\n\u001b[1;32m   1373\u001b[0m \u001b[38;5;28;01mdef\u001b[39;00m \u001b[38;5;21mrun_single\u001b[39m(\u001b[38;5;28mself\u001b[39m, inputs, preprocess_params, forward_params, postprocess_params):\n\u001b[1;32m   1374\u001b[0m     model_inputs \u001b[38;5;241m=\u001b[39m \u001b[38;5;28mself\u001b[39m\u001b[38;5;241m.\u001b[39mpreprocess(inputs, \u001b[38;5;241m*\u001b[39m\u001b[38;5;241m*\u001b[39mpreprocess_params)\n\u001b[0;32m-> 1375\u001b[0m     model_outputs \u001b[38;5;241m=\u001b[39m \u001b[38;5;28mself\u001b[39m\u001b[38;5;241m.\u001b[39mforward(model_inputs, \u001b[38;5;241m*\u001b[39m\u001b[38;5;241m*\u001b[39mforward_params)\n\u001b[1;32m   1376\u001b[0m     outputs \u001b[38;5;241m=\u001b[39m \u001b[38;5;28mself\u001b[39m\u001b[38;5;241m.\u001b[39mpostprocess(model_outputs, \u001b[38;5;241m*\u001b[39m\u001b[38;5;241m*\u001b[39mpostprocess_params)\n\u001b[1;32m   1377\u001b[0m     \u001b[38;5;28;01mreturn\u001b[39;00m outputs\n",
      "File \u001b[0;32m~/miniconda3/envs/575/lib/python3.11/site-packages/transformers/pipelines/base.py:1270\u001b[0m, in \u001b[0;36mPipeline.forward\u001b[0;34m(self, model_inputs, **forward_params)\u001b[0m\n\u001b[1;32m   1268\u001b[0m \u001b[38;5;28;01mif\u001b[39;00m \u001b[38;5;28mself\u001b[39m\u001b[38;5;241m.\u001b[39mframework \u001b[38;5;241m==\u001b[39m \u001b[38;5;124m\"\u001b[39m\u001b[38;5;124mtf\u001b[39m\u001b[38;5;124m\"\u001b[39m:\n\u001b[1;32m   1269\u001b[0m     model_inputs[\u001b[38;5;124m\"\u001b[39m\u001b[38;5;124mtraining\u001b[39m\u001b[38;5;124m\"\u001b[39m] \u001b[38;5;241m=\u001b[39m \u001b[38;5;28;01mFalse\u001b[39;00m\n\u001b[0;32m-> 1270\u001b[0m     model_outputs \u001b[38;5;241m=\u001b[39m \u001b[38;5;28mself\u001b[39m\u001b[38;5;241m.\u001b[39m_forward(model_inputs, \u001b[38;5;241m*\u001b[39m\u001b[38;5;241m*\u001b[39mforward_params)\n\u001b[1;32m   1271\u001b[0m \u001b[38;5;28;01melif\u001b[39;00m \u001b[38;5;28mself\u001b[39m\u001b[38;5;241m.\u001b[39mframework \u001b[38;5;241m==\u001b[39m \u001b[38;5;124m\"\u001b[39m\u001b[38;5;124mpt\u001b[39m\u001b[38;5;124m\"\u001b[39m:\n\u001b[1;32m   1272\u001b[0m     inference_context \u001b[38;5;241m=\u001b[39m \u001b[38;5;28mself\u001b[39m\u001b[38;5;241m.\u001b[39mget_inference_context()\n",
      "File \u001b[0;32m~/miniconda3/envs/575/lib/python3.11/site-packages/transformers/pipelines/fill_mask.py:127\u001b[0m, in \u001b[0;36mFillMaskPipeline._forward\u001b[0;34m(self, model_inputs)\u001b[0m\n\u001b[1;32m    126\u001b[0m \u001b[38;5;28;01mdef\u001b[39;00m \u001b[38;5;21m_forward\u001b[39m(\u001b[38;5;28mself\u001b[39m, model_inputs):\n\u001b[0;32m--> 127\u001b[0m     model_outputs \u001b[38;5;241m=\u001b[39m \u001b[38;5;28mself\u001b[39m\u001b[38;5;241m.\u001b[39mmodel(\u001b[38;5;241m*\u001b[39m\u001b[38;5;241m*\u001b[39mmodel_inputs)\n\u001b[1;32m    128\u001b[0m     model_outputs[\u001b[38;5;124m\"\u001b[39m\u001b[38;5;124minput_ids\u001b[39m\u001b[38;5;124m\"\u001b[39m] \u001b[38;5;241m=\u001b[39m model_inputs[\u001b[38;5;124m\"\u001b[39m\u001b[38;5;124minput_ids\u001b[39m\u001b[38;5;124m\"\u001b[39m]\n\u001b[1;32m    129\u001b[0m     \u001b[38;5;28;01mreturn\u001b[39;00m model_outputs\n",
      "File \u001b[0;32m~/miniconda3/envs/575/lib/python3.11/site-packages/tf_keras/src/utils/traceback_utils.py:70\u001b[0m, in \u001b[0;36mfilter_traceback.<locals>.error_handler\u001b[0;34m(*args, **kwargs)\u001b[0m\n\u001b[1;32m     67\u001b[0m     filtered_tb \u001b[38;5;241m=\u001b[39m _process_traceback_frames(e\u001b[38;5;241m.\u001b[39m__traceback__)\n\u001b[1;32m     68\u001b[0m     \u001b[38;5;66;03m# To get the full stack trace, call:\u001b[39;00m\n\u001b[1;32m     69\u001b[0m     \u001b[38;5;66;03m# `tf.debugging.disable_traceback_filtering()`\u001b[39;00m\n\u001b[0;32m---> 70\u001b[0m     \u001b[38;5;28;01mraise\u001b[39;00m e\u001b[38;5;241m.\u001b[39mwith_traceback(filtered_tb) \u001b[38;5;28;01mfrom\u001b[39;00m \u001b[38;5;28;01mNone\u001b[39;00m\n\u001b[1;32m     71\u001b[0m \u001b[38;5;28;01mfinally\u001b[39;00m:\n\u001b[1;32m     72\u001b[0m     \u001b[38;5;28;01mdel\u001b[39;00m filtered_tb\n",
      "File \u001b[0;32m~/miniconda3/envs/575/lib/python3.11/site-packages/transformers/modeling_tf_utils.py:437\u001b[0m, in \u001b[0;36munpack_inputs.<locals>.run_call_with_unpacked_inputs\u001b[0;34m(self, *args, **kwargs)\u001b[0m\n\u001b[1;32m    434\u001b[0m     config \u001b[38;5;241m=\u001b[39m \u001b[38;5;28mself\u001b[39m\u001b[38;5;241m.\u001b[39mconfig\n\u001b[1;32m    436\u001b[0m unpacked_inputs \u001b[38;5;241m=\u001b[39m input_processing(func, config, \u001b[38;5;241m*\u001b[39m\u001b[38;5;241m*\u001b[39mfn_args_and_kwargs)\n\u001b[0;32m--> 437\u001b[0m \u001b[38;5;28;01mreturn\u001b[39;00m func(\u001b[38;5;28mself\u001b[39m, \u001b[38;5;241m*\u001b[39m\u001b[38;5;241m*\u001b[39munpacked_inputs)\n",
      "File \u001b[0;32m~/miniconda3/envs/575/lib/python3.11/site-packages/transformers/models/roberta/modeling_tf_roberta.py:1171\u001b[0m, in \u001b[0;36mTFRobertaForMaskedLM.call\u001b[0;34m(self, input_ids, attention_mask, token_type_ids, position_ids, head_mask, inputs_embeds, output_attentions, output_hidden_states, return_dict, labels, training)\u001b[0m\n\u001b[1;32m   1141\u001b[0m \u001b[38;5;129m@unpack_inputs\u001b[39m\n\u001b[1;32m   1142\u001b[0m \u001b[38;5;129m@add_start_docstrings_to_model_forward\u001b[39m(ROBERTA_INPUTS_DOCSTRING\u001b[38;5;241m.\u001b[39mformat(\u001b[38;5;124m\"\u001b[39m\u001b[38;5;124mbatch_size, sequence_length\u001b[39m\u001b[38;5;124m\"\u001b[39m))\n\u001b[1;32m   1143\u001b[0m \u001b[38;5;129m@add_code_sample_docstrings\u001b[39m(\n\u001b[0;32m   (...)\u001b[0m\n\u001b[1;32m   1163\u001b[0m     training: Optional[\u001b[38;5;28mbool\u001b[39m] \u001b[38;5;241m=\u001b[39m \u001b[38;5;28;01mFalse\u001b[39;00m,\n\u001b[1;32m   1164\u001b[0m ) \u001b[38;5;241m-\u001b[39m\u001b[38;5;241m>\u001b[39m Union[TFMaskedLMOutput, Tuple[tf\u001b[38;5;241m.\u001b[39mTensor]]:\n\u001b[1;32m   1165\u001b[0m \u001b[38;5;250m    \u001b[39m\u001b[38;5;124mr\u001b[39m\u001b[38;5;124;03m\"\"\"\u001b[39;00m\n\u001b[1;32m   1166\u001b[0m \u001b[38;5;124;03m    labels (`tf.Tensor` of shape `(batch_size, sequence_length)`, *optional*):\u001b[39;00m\n\u001b[1;32m   1167\u001b[0m \u001b[38;5;124;03m        Labels for computing the masked language modeling loss. Indices should be in `[-100, 0, ...,\u001b[39;00m\n\u001b[1;32m   1168\u001b[0m \u001b[38;5;124;03m        config.vocab_size]` (see `input_ids` docstring) Tokens with indices set to `-100` are ignored (masked), the\u001b[39;00m\n\u001b[1;32m   1169\u001b[0m \u001b[38;5;124;03m        loss is only computed for the tokens with labels in `[0, ..., config.vocab_size]`\u001b[39;00m\n\u001b[1;32m   1170\u001b[0m \u001b[38;5;124;03m    \"\"\"\u001b[39;00m\n\u001b[0;32m-> 1171\u001b[0m     outputs \u001b[38;5;241m=\u001b[39m \u001b[38;5;28mself\u001b[39m\u001b[38;5;241m.\u001b[39mroberta(\n\u001b[1;32m   1172\u001b[0m         input_ids,\n\u001b[1;32m   1173\u001b[0m         attention_mask\u001b[38;5;241m=\u001b[39mattention_mask,\n\u001b[1;32m   1174\u001b[0m         token_type_ids\u001b[38;5;241m=\u001b[39mtoken_type_ids,\n\u001b[1;32m   1175\u001b[0m         position_ids\u001b[38;5;241m=\u001b[39mposition_ids,\n\u001b[1;32m   1176\u001b[0m         head_mask\u001b[38;5;241m=\u001b[39mhead_mask,\n\u001b[1;32m   1177\u001b[0m         inputs_embeds\u001b[38;5;241m=\u001b[39minputs_embeds,\n\u001b[1;32m   1178\u001b[0m         output_attentions\u001b[38;5;241m=\u001b[39moutput_attentions,\n\u001b[1;32m   1179\u001b[0m         output_hidden_states\u001b[38;5;241m=\u001b[39moutput_hidden_states,\n\u001b[1;32m   1180\u001b[0m         return_dict\u001b[38;5;241m=\u001b[39mreturn_dict,\n\u001b[1;32m   1181\u001b[0m         training\u001b[38;5;241m=\u001b[39mtraining,\n\u001b[1;32m   1182\u001b[0m     )\n\u001b[1;32m   1184\u001b[0m     sequence_output \u001b[38;5;241m=\u001b[39m outputs[\u001b[38;5;241m0\u001b[39m]\n\u001b[1;32m   1185\u001b[0m     prediction_scores \u001b[38;5;241m=\u001b[39m \u001b[38;5;28mself\u001b[39m\u001b[38;5;241m.\u001b[39mlm_head(sequence_output)\n",
      "File \u001b[0;32m~/miniconda3/envs/575/lib/python3.11/site-packages/transformers/modeling_tf_utils.py:437\u001b[0m, in \u001b[0;36munpack_inputs.<locals>.run_call_with_unpacked_inputs\u001b[0;34m(self, *args, **kwargs)\u001b[0m\n\u001b[1;32m    434\u001b[0m     config \u001b[38;5;241m=\u001b[39m \u001b[38;5;28mself\u001b[39m\u001b[38;5;241m.\u001b[39mconfig\n\u001b[1;32m    436\u001b[0m unpacked_inputs \u001b[38;5;241m=\u001b[39m input_processing(func, config, \u001b[38;5;241m*\u001b[39m\u001b[38;5;241m*\u001b[39mfn_args_and_kwargs)\n\u001b[0;32m--> 437\u001b[0m \u001b[38;5;28;01mreturn\u001b[39;00m func(\u001b[38;5;28mself\u001b[39m, \u001b[38;5;241m*\u001b[39m\u001b[38;5;241m*\u001b[39munpacked_inputs)\n",
      "File \u001b[0;32m~/miniconda3/envs/575/lib/python3.11/site-packages/transformers/models/roberta/modeling_tf_roberta.py:745\u001b[0m, in \u001b[0;36mTFRobertaMainLayer.call\u001b[0;34m(self, input_ids, attention_mask, token_type_ids, position_ids, head_mask, inputs_embeds, encoder_hidden_states, encoder_attention_mask, past_key_values, use_cache, output_attentions, output_hidden_states, return_dict, training)\u001b[0m\n\u001b[1;32m    742\u001b[0m \u001b[38;5;28;01mif\u001b[39;00m token_type_ids \u001b[38;5;129;01mis\u001b[39;00m \u001b[38;5;28;01mNone\u001b[39;00m:\n\u001b[1;32m    743\u001b[0m     token_type_ids \u001b[38;5;241m=\u001b[39m tf\u001b[38;5;241m.\u001b[39mfill(dims\u001b[38;5;241m=\u001b[39minput_shape, value\u001b[38;5;241m=\u001b[39m\u001b[38;5;241m0\u001b[39m)\n\u001b[0;32m--> 745\u001b[0m embedding_output \u001b[38;5;241m=\u001b[39m \u001b[38;5;28mself\u001b[39m\u001b[38;5;241m.\u001b[39membeddings(\n\u001b[1;32m    746\u001b[0m     input_ids\u001b[38;5;241m=\u001b[39minput_ids,\n\u001b[1;32m    747\u001b[0m     position_ids\u001b[38;5;241m=\u001b[39mposition_ids,\n\u001b[1;32m    748\u001b[0m     token_type_ids\u001b[38;5;241m=\u001b[39mtoken_type_ids,\n\u001b[1;32m    749\u001b[0m     inputs_embeds\u001b[38;5;241m=\u001b[39minputs_embeds,\n\u001b[1;32m    750\u001b[0m     past_key_values_length\u001b[38;5;241m=\u001b[39mpast_key_values_length,\n\u001b[1;32m    751\u001b[0m     training\u001b[38;5;241m=\u001b[39mtraining,\n\u001b[1;32m    752\u001b[0m )\n\u001b[1;32m    754\u001b[0m \u001b[38;5;66;03m# We create a 3D attention mask from a 2D tensor mask.\u001b[39;00m\n\u001b[1;32m    755\u001b[0m \u001b[38;5;66;03m# Sizes are [batch_size, 1, 1, to_seq_length]\u001b[39;00m\n\u001b[1;32m    756\u001b[0m \u001b[38;5;66;03m# So we can broadcast to [batch_size, num_heads, from_seq_length, to_seq_length]\u001b[39;00m\n\u001b[1;32m    757\u001b[0m \u001b[38;5;66;03m# this attention mask is more simple than the triangular masking of causal attention\u001b[39;00m\n\u001b[1;32m    758\u001b[0m \u001b[38;5;66;03m# used in OpenAI GPT, we just need to prepare the broadcast dimension here.\u001b[39;00m\n\u001b[1;32m    759\u001b[0m attention_mask_shape \u001b[38;5;241m=\u001b[39m shape_list(attention_mask)\n",
      "File \u001b[0;32m~/miniconda3/envs/575/lib/python3.11/site-packages/transformers/models/roberta/modeling_tf_roberta.py:164\u001b[0m, in \u001b[0;36mTFRobertaEmbeddings.call\u001b[0;34m(self, input_ids, position_ids, token_type_ids, inputs_embeds, past_key_values_length, training)\u001b[0m\n\u001b[1;32m    159\u001b[0m     \u001b[38;5;28;01melse\u001b[39;00m:\n\u001b[1;32m    160\u001b[0m         position_ids \u001b[38;5;241m=\u001b[39m tf\u001b[38;5;241m.\u001b[39mexpand_dims(\n\u001b[1;32m    161\u001b[0m             tf\u001b[38;5;241m.\u001b[39mrange(start\u001b[38;5;241m=\u001b[39m\u001b[38;5;28mself\u001b[39m\u001b[38;5;241m.\u001b[39mpadding_idx \u001b[38;5;241m+\u001b[39m \u001b[38;5;241m1\u001b[39m, limit\u001b[38;5;241m=\u001b[39minput_shape[\u001b[38;5;241m-\u001b[39m\u001b[38;5;241m1\u001b[39m] \u001b[38;5;241m+\u001b[39m \u001b[38;5;28mself\u001b[39m\u001b[38;5;241m.\u001b[39mpadding_idx \u001b[38;5;241m+\u001b[39m \u001b[38;5;241m1\u001b[39m), axis\u001b[38;5;241m=\u001b[39m\u001b[38;5;241m0\u001b[39m\n\u001b[1;32m    162\u001b[0m         )\n\u001b[0;32m--> 164\u001b[0m position_embeds \u001b[38;5;241m=\u001b[39m tf\u001b[38;5;241m.\u001b[39mgather(params\u001b[38;5;241m=\u001b[39m\u001b[38;5;28mself\u001b[39m\u001b[38;5;241m.\u001b[39mposition_embeddings, indices\u001b[38;5;241m=\u001b[39mposition_ids)\n\u001b[1;32m    165\u001b[0m token_type_embeds \u001b[38;5;241m=\u001b[39m tf\u001b[38;5;241m.\u001b[39mgather(params\u001b[38;5;241m=\u001b[39m\u001b[38;5;28mself\u001b[39m\u001b[38;5;241m.\u001b[39mtoken_type_embeddings, indices\u001b[38;5;241m=\u001b[39mtoken_type_ids)\n\u001b[1;32m    166\u001b[0m final_embeddings \u001b[38;5;241m=\u001b[39m inputs_embeds \u001b[38;5;241m+\u001b[39m position_embeds \u001b[38;5;241m+\u001b[39m token_type_embeds\n",
      "\u001b[0;31mInvalidArgumentError\u001b[0m: Exception encountered when calling layer 'embeddings' (type TFRobertaEmbeddings).\n\n{{function_node __wrapped__ResourceGather_device_/job:localhost/replica:0/task:0/device:CPU:0}} indices[0,512] = 514 is not in [0, 514) [Op:ResourceGather] name: \n\nCall arguments received by layer 'embeddings' (type TFRobertaEmbeddings):\n  • input_ids=tf.Tensor(shape=(1, 566), dtype=int32)\n  • position_ids=None\n  • token_type_ids=tf.Tensor(shape=(1, 566), dtype=int32)\n  • inputs_embeds=None\n  • past_key_values_length=0\n  • training=False"
     ]
    }
   ],
   "source": [
    "w_short[\"validation\"] = w_short.mask_example.apply(generate_validation)\n",
    "s_short[\"validation\"] = s_short.mask_example.apply(generate_validation)"
   ]
  },
  {
   "cell_type": "markdown",
   "id": "a6aa7dbc-9e0a-4dac-b812-aecb5b2d02c1",
   "metadata": {},
   "source": [
    "## (Experimental) Cosine similarity filtering\n",
    "\n",
    "Webis data can have very...colorful summaries sourced from TLDR comments. Linguistically, these do not serve the same purpose as the summaries in SAM-Sum. \n",
    "\n",
    "To mitigate this difference between the two datasets, we can drop rows where the provided summary has lower cosine similarity scores than any SAM-Sum instance. "
   ]
  },
  {
   "cell_type": "code",
   "execution_count": 5,
   "id": "94ec59c6-761b-420b-b104-8f0cb379388a",
   "metadata": {},
   "outputs": [],
   "source": [
    "# Try taking cosine similarity on the provided summaries and original content/dialogue\n",
    "def samsum_cos_sim(example):\n",
    "    a = example['dialogue']\n",
    "    b = example['summary']\n",
    "    ax = embedder.encode(np.array([a]), convert_to_tensor=True)\n",
    "    bx = embedder.encode(np.array([b]), convert_to_tensor=True)\n",
    "    return {'cos_sim': get_cos_similarity_score(ax, bx)}\n",
    "\n",
    "def webis_cos_sim(example):\n",
    "    a = example['content']\n",
    "    b = example['summary']\n",
    "    ax = embedder.encode(np.array([a]), convert_to_tensor=True)\n",
    "    bx = embedder.encode(np.array([b]), convert_to_tensor=True)\n",
    "    return {'cos_sim': get_cos_similarity_score(ax, bx)}"
   ]
  },
  {
   "cell_type": "markdown",
   "id": "e96845de-c795-4bac-be42-ecc7de6af024",
   "metadata": {},
   "source": [
    "### Cherry-picking\n",
    "Let's see if my hypothesis about cosine similarity relating to summary relevance is correct:"
   ]
  },
  {
   "cell_type": "code",
   "execution_count": 66,
   "id": "f836d7af-a351-49b0-b9a7-a710222ecce0",
   "metadata": {},
   "outputs": [],
   "source": [
    "x = w_test.loc[w_test.cos_sim < s_test.cos_sim.min()]\n",
    "y = x.loc[x.content_length < 30]\n",
    "z = y.sample(1)"
   ]
  },
  {
   "cell_type": "code",
   "execution_count": 67,
   "id": "2066f110-f2e2-45ad-b6bb-d5b586a2ff55",
   "metadata": {},
   "outputs": [
    {
     "data": {
      "text/plain": [
       "'Wait wait wait. An optional drill mount? Does this mean I could technically outfit it with a door gun? Possibly on both sides.'"
      ]
     },
     "execution_count": 67,
     "metadata": {},
     "output_type": "execute_result"
    }
   ],
   "source": [
    "z.iloc[0, 6]"
   ]
  },
  {
   "cell_type": "code",
   "execution_count": 68,
   "id": "37dcf1cb-7f01-4b46-bc69-61b55fe88459",
   "metadata": {},
   "outputs": [
    {
     "data": {
      "text/plain": [
       "'NANITE SYSTEMS PLZ'"
      ]
     },
     "execution_count": 68,
     "metadata": {},
     "output_type": "execute_result"
    }
   ],
   "source": [
    "z.iloc[0, 7]"
   ]
  },
  {
   "cell_type": "code",
   "execution_count": 86,
   "id": "7bce4816-7c04-4bb2-9cc8-44a99c11c6a6",
   "metadata": {},
   "outputs": [],
   "source": [
    "a = w_test.loc[w_test.cos_sim > s_test.cos_sim.mean()]\n",
    "b = a.loc[a.content_length < 30]\n",
    "c = b.sample(1)"
   ]
  },
  {
   "cell_type": "code",
   "execution_count": 87,
   "id": "2812560e-6ab6-4876-868e-74b8931f8c57",
   "metadata": {},
   "outputs": [
    {
     "data": {
      "text/plain": [
       "'Its a clever and sneaky move by ms to try and lock people into their service eco system and get people off Google crack.'"
      ]
     },
     "execution_count": 87,
     "metadata": {},
     "output_type": "execute_result"
    }
   ],
   "source": [
    "c.iloc[0, 6]"
   ]
  },
  {
   "cell_type": "code",
   "execution_count": 88,
   "id": "e399ebd7-aa8c-481c-88fa-0d584a65d7cb",
   "metadata": {},
   "outputs": [
    {
     "data": {
      "text/plain": [
       "'Microsoft is offering their crack on the same street corner as Google.'"
      ]
     },
     "execution_count": 88,
     "metadata": {},
     "output_type": "execute_result"
    }
   ],
   "source": [
    "c.iloc[0, 7]"
   ]
  },
  {
   "cell_type": "markdown",
   "id": "5a056836-855f-4e47-ba3f-be10441662da",
   "metadata": {},
   "source": [
    "### Comparing ranges\n",
    "\n",
    "We can also check out the range of cosine similarity scores for both datasets"
   ]
  },
  {
   "cell_type": "code",
   "execution_count": 9,
   "id": "6ea1d5f5-c1ca-49d1-97f2-96c3ef72d799",
   "metadata": {},
   "outputs": [
    {
     "data": {
      "text/plain": [
       "0.9711474180221558"
      ]
     },
     "execution_count": 9,
     "metadata": {},
     "output_type": "execute_result"
    }
   ],
   "source": [
    "w_test.cos_sim.max()"
   ]
  },
  {
   "cell_type": "code",
   "execution_count": 10,
   "id": "a6956183-6589-4fca-ab38-cbfc7ac48c37",
   "metadata": {},
   "outputs": [
    {
     "data": {
      "text/plain": [
       "0.9129816293716431"
      ]
     },
     "execution_count": 10,
     "metadata": {},
     "output_type": "execute_result"
    }
   ],
   "source": [
    "s_test.cos_sim.max()"
   ]
  },
  {
   "cell_type": "code",
   "execution_count": 11,
   "id": "01911072-a37e-4352-a3d6-43185118a503",
   "metadata": {},
   "outputs": [
    {
     "data": {
      "text/plain": [
       "0.03785103785103785"
      ]
     },
     "execution_count": 11,
     "metadata": {},
     "output_type": "execute_result"
    }
   ],
   "source": [
    "len(s_test.loc[s_test.cos_sim < 0.5]) / len(s_test)"
   ]
  },
  {
   "cell_type": "code",
   "execution_count": 12,
   "id": "9a81eab2-980a-4a03-a733-3d7b89cecf66",
   "metadata": {},
   "outputs": [
    {
     "data": {
      "text/plain": [
       "0.6180859080633007"
      ]
     },
     "execution_count": 12,
     "metadata": {},
     "output_type": "execute_result"
    }
   ],
   "source": [
    "len(w_test.loc[w_test.cos_sim < 0.5]) / len(w_test)"
   ]
  },
  {
   "cell_type": "code",
   "execution_count": 36,
   "id": "f3a2feae-2fc0-464f-a8b1-1e0fba3c2752",
   "metadata": {},
   "outputs": [
    {
     "data": {
      "image/png": "[encoded data removed]",
      "text/plain": [
       "<Figure size 640x480 with 1 Axes>"
      ]
     },
     "metadata": {},
     "output_type": "display_data"
    }
   ],
   "source": [
    "# Peek at cosine similarity density\n",
    "s_test.cos_sim.plot(kind=\"kde\")\n",
    "plt.xlim(0, 1.2)\n",
    "plt.ylim(0, 5)\n",
    "plt.show()"
   ]
  },
  {
   "cell_type": "code",
   "execution_count": 37,
   "id": "635d7dab-8312-4d40-a27b-4c270cf3131e",
   "metadata": {
    "scrolled": true
   },
   "outputs": [
    {
     "data": {
      "image/png": "[encoded data removed]",
      "text/plain": [
       "<Figure size 640x480 with 1 Axes>"
      ]
     },
     "metadata": {},
     "output_type": "display_data"
    }
   ],
   "source": [
    "w_test.cos_sim.plot(kind=\"kde\")\n",
    "plt.xlim(0, 1.2)\n",
    "plt.ylim(0, 5)\n",
    "plt.show()"
   ]
  },
  {
   "cell_type": "markdown",
   "id": "bcd9d686-7813-49c2-b313-a12901cdc8a0",
   "metadata": {},
   "source": [
    "### Mitigating differences\n",
    "\n",
    "Maybe we can filter Webis data to get a similar distribution of cosine similarity scores..."
   ]
  },
  {
   "cell_type": "code",
   "execution_count": 20,
   "id": "62778320-a709-415c-8c42-d1b26f2c9798",
   "metadata": {},
   "outputs": [],
   "source": [
    "# Take a sample of Webis of similar volume to SAM-Sum\n",
    "q = w_test.loc[w_test.cos_sim > s_test.cos_sim.min()].sample(n=819, random_state=42)"
   ]
  },
  {
   "cell_type": "code",
   "execution_count": 38,
   "id": "c3421e28-89db-4f9f-9afa-7dc954f91d83",
   "metadata": {},
   "outputs": [
    {
     "data": {
      "image/png": "[encoded data removed]",
      "text/plain": [
       "<Figure size 640x480 with 1 Axes>"
      ]
     },
     "metadata": {},
     "output_type": "display_data"
    }
   ],
   "source": [
    "q.cos_sim.plot(kind=\"kde\")\n",
    "plt.xlim(0, 1.2)\n",
    "plt.ylim(0, 5)\n",
    "plt.show()"
   ]
  },
  {
   "cell_type": "code",
   "execution_count": 18,
   "id": "bf132756-9c9d-4cbe-b7a2-b9ca1dd4dad6",
   "metadata": {},
   "outputs": [
    {
     "name": "stdout",
     "output_type": "stream",
     "text": [
      "SAM-Sum: 122662 tokens\n"
     ]
    }
   ],
   "source": [
    "samsum_tokens = s_test.dialogue_length.sum() + s_test.summary_length.sum()\n",
    "print(\"SAM-Sum: {} tokens\".format(samsum_tokens))"
   ]
  },
  {
   "cell_type": "code",
   "execution_count": 21,
   "id": "31b8f7fd-1c68-402e-9f32-d1ce3acda5f2",
   "metadata": {},
   "outputs": [
    {
     "name": "stdout",
     "output_type": "stream",
     "text": [
      "Webis: 222504 tokens\n"
     ]
    }
   ],
   "source": [
    "webis_tokens = q.summary_length.sum() + q.content_length.sum()\n",
    "print(\"Webis: {} tokens\".format(webis_tokens))"
   ]
  },
  {
   "cell_type": "markdown",
   "id": "20ab5b8d-a5d3-4824-986b-ed5cfee708bb",
   "metadata": {},
   "source": [
    "## Generate D3 Data\n",
    "\n",
    "Run the following cells to generate data. \n",
    "\n",
    "**If not using cosine-similarity filtering, replace `q` with `w_test`**"
   ]
  },
  {
   "cell_type": "code",
   "execution_count": 6,
   "id": "31d77756-4a4d-44f7-a248-e7a5af0a3e09",
   "metadata": {},
   "outputs": [],
   "source": [
    "def generate_prompt(example):\n",
    "    return \"Summarize the following text:\\n{}\".format(example)"
   ]
  },
  {
   "cell_type": "code",
   "execution_count": 7,
   "id": "02c3ebda-5156-4264-8009-b04e49c7f593",
   "metadata": {},
   "outputs": [],
   "source": [
    "# Prepare final columns\n",
    "w_test[\"prompt\"] = w_test.content.apply(generate_prompt)\n",
    "s_test[\"prompt\"] = s_test.dialogue.apply(generate_prompt)\n",
    "w_test[\"source\"] = \"webis\"\n",
    "s_test[\"source\"] = \"samsum\""
   ]
  },
  {
   "cell_type": "code",
   "execution_count": 35,
   "id": "85b3f29a-6dad-4544-87f8-0ce245d96ee6",
   "metadata": {},
   "outputs": [
    {
     "data": {
      "text/html": [
       "<div>\n",
       "<style scoped>\n",
       "    .dataframe tbody tr th:only-of-type {\n",
       "        vertical-align: middle;\n",
       "    }\n",
       "\n",
       "    .dataframe tbody tr th {\n",
       "        vertical-align: top;\n",
       "    }\n",
       "\n",
       "    .dataframe thead th {\n",
       "        text-align: right;\n",
       "    }\n",
       "</style>\n",
       "<table border=\"1\" class=\"dataframe\">\n",
       "  <thead>\n",
       "    <tr style=\"text-align: right;\">\n",
       "      <th></th>\n",
       "      <th>id</th>\n",
       "      <th>prompt</th>\n",
       "      <th>source</th>\n",
       "    </tr>\n",
       "  </thead>\n",
       "  <tbody>\n",
       "    <tr>\n",
       "      <th>0</th>\n",
       "      <td>13862856</td>\n",
       "      <td>Summarize the following content:\\nHannah: Hey,...</td>\n",
       "      <td>samsum</td>\n",
       "    </tr>\n",
       "    <tr>\n",
       "      <th>1</th>\n",
       "      <td>13729565</td>\n",
       "      <td>Summarize the following content:\\nEric: MACHIN...</td>\n",
       "      <td>samsum</td>\n",
       "    </tr>\n",
       "    <tr>\n",
       "      <th>2</th>\n",
       "      <td>13680171</td>\n",
       "      <td>Summarize the following content:\\nLenny: Babe,...</td>\n",
       "      <td>samsum</td>\n",
       "    </tr>\n",
       "    <tr>\n",
       "      <th>3</th>\n",
       "      <td>13729438</td>\n",
       "      <td>Summarize the following content:\\nWill: hey ba...</td>\n",
       "      <td>samsum</td>\n",
       "    </tr>\n",
       "    <tr>\n",
       "      <th>4</th>\n",
       "      <td>13828600</td>\n",
       "      <td>Summarize the following content:\\nOllie: Hi , ...</td>\n",
       "      <td>samsum</td>\n",
       "    </tr>\n",
       "    <tr>\n",
       "      <th>...</th>\n",
       "      <td>...</td>\n",
       "      <td>...</td>\n",
       "      <td>...</td>\n",
       "    </tr>\n",
       "    <tr>\n",
       "      <th>1633</th>\n",
       "      <td>chc2rzj</td>\n",
       "      <td>Summarize the following content:\\nIf you're lo...</td>\n",
       "      <td>webis</td>\n",
       "    </tr>\n",
       "    <tr>\n",
       "      <th>1634</th>\n",
       "      <td>c6jiwdl</td>\n",
       "      <td>Summarize the following content:\\nKayle is a v...</td>\n",
       "      <td>webis</td>\n",
       "    </tr>\n",
       "    <tr>\n",
       "      <th>1635</th>\n",
       "      <td>c3mtu8p</td>\n",
       "      <td>Summarize the following content:\\nIf she delet...</td>\n",
       "      <td>webis</td>\n",
       "    </tr>\n",
       "    <tr>\n",
       "      <th>1636</th>\n",
       "      <td>cijaylo</td>\n",
       "      <td>Summarize the following content:\\nIts a combin...</td>\n",
       "      <td>webis</td>\n",
       "    </tr>\n",
       "    <tr>\n",
       "      <th>1637</th>\n",
       "      <td>ccne42w</td>\n",
       "      <td>Summarize the following content:\\nIt depends a...</td>\n",
       "      <td>webis</td>\n",
       "    </tr>\n",
       "  </tbody>\n",
       "</table>\n",
       "<p>1638 rows × 3 columns</p>\n",
       "</div>"
      ],
      "text/plain": [
       "            id                                             prompt  source\n",
       "0     13862856  Summarize the following content:\\nHannah: Hey,...  samsum\n",
       "1     13729565  Summarize the following content:\\nEric: MACHIN...  samsum\n",
       "2     13680171  Summarize the following content:\\nLenny: Babe,...  samsum\n",
       "3     13729438  Summarize the following content:\\nWill: hey ba...  samsum\n",
       "4     13828600  Summarize the following content:\\nOllie: Hi , ...  samsum\n",
       "...        ...                                                ...     ...\n",
       "1633   chc2rzj  Summarize the following content:\\nIf you're lo...   webis\n",
       "1634   c6jiwdl  Summarize the following content:\\nKayle is a v...   webis\n",
       "1635   c3mtu8p  Summarize the following content:\\nIf she delet...   webis\n",
       "1636   cijaylo  Summarize the following content:\\nIts a combin...   webis\n",
       "1637   ccne42w  Summarize the following content:\\nIt depends a...   webis\n",
       "\n",
       "[1638 rows x 3 columns]"
      ]
     },
     "execution_count": 35,
     "metadata": {},
     "output_type": "execute_result"
    }
   ],
   "source": [
    "# Generate results in a fresh DF\n",
    "result = pd.DataFrame(columns=['id', 'prompt', 'source'])\n",
    "result = pd.concat([result, s_test[['id', 'prompt', 'source']]])\n",
    "result = pd.concat([result, q[['id', 'prompt', 'source']]])\n",
    "result.reset_index(inplace=True, drop=True)\n",
    "result"
   ]
  },
  {
   "cell_type": "code",
   "execution_count": 34,
   "id": "a8654ac6-38a9-4482-ac24-6321cd5fd2d4",
   "metadata": {},
   "outputs": [],
   "source": [
    "result.to_csv(\"d3_data.csv\", index=False)"
   ]
  }
 ],
 "metadata": {
  "kernelspec": {
   "display_name": ".venv",
   "language": "python",
   "name": "python3"
  },
  "language_info": {
   "codemirror_mode": {
    "name": "ipython",
    "version": 3
   },
   "file_extension": ".py",
   "mimetype": "text/x-python",
   "name": "python",
   "nbconvert_exporter": "python",
   "pygments_lexer": "ipython3",
   "version": "3.11.9"
  }
 },
 "nbformat": 4,
 "nbformat_minor": 5
}
