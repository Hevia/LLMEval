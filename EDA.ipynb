{
 "cells": [
  {
   "cell_type": "code",
   "execution_count": null,
   "id": "5681ccfb-754b-4188-8696-a8c979e3f6bf",
   "metadata": {
    "scrolled": true
   },
   "outputs": [],
   "source": [
    "# import sys\n",
    "# !{sys.executable} -m pip install nltk"
   ]
  },
  {
   "cell_type": "code",
   "execution_count": 1,
   "id": "1ae8956d-64db-4fca-b297-980b07aa3ef8",
   "metadata": {},
   "outputs": [],
   "source": [
    "from nltk import word_tokenize\n",
    "import pandas as pd"
   ]
  },
  {
   "cell_type": "code",
   "execution_count": 3,
   "id": "795dc3e8-bcf2-40e2-9a59-1df4d8439e4d",
   "metadata": {},
   "outputs": [],
   "source": [
    "samsum = pd.read_json(\"data/samsum/test.json\")\n",
    "cols = ['content', 'summary', 'id', 'subreddit']\n",
    "webis = pd.read_parquet(\"data/webis/0001.parquet\")[cols]"
   ]
  },
  {
   "cell_type": "code",
   "execution_count": 4,
   "id": "8c10ab3b-f789-48a9-b23f-b26bee5df8bb",
   "metadata": {},
   "outputs": [],
   "source": [
    "# aux columns\n",
    "samsum[\"utt_num\"] = samsum.dialogue.str.split(\"\\n\").apply(len)\n",
    "samsum[\"dialogue_length\"] = samsum.dialogue.apply(word_tokenize).apply(len)\n",
    "samsum[\"summary_length\"] = samsum.summary.apply(word_tokenize).apply(len)\n",
    "webis[\"summary_length\"] = webis.summary.apply(word_tokenize).apply(len)\n",
    "webis[\"content_length\"] = webis.content.apply(word_tokenize).apply(len)"
   ]
  },
  {
   "cell_type": "code",
   "execution_count": 5,
   "id": "bf132756-9c9d-4cbe-b7a2-b9ca1dd4dad6",
   "metadata": {},
   "outputs": [
    {
     "name": "stdout",
     "output_type": "stream",
     "text": [
      "SAM-Sum has ~122662 tokens\n"
     ]
    }
   ],
   "source": [
    "samsum_tokens = samsum.dialogue_length.sum() + samsum.summary_length.sum()\n",
    "print(\"SAM-Sum has ~{} tokens\".format(samsum_tokens))"
   ]
  },
  {
   "cell_type": "code",
   "execution_count": 6,
   "id": "31b8f7fd-1c68-402e-9f32-d1ce3acda5f2",
   "metadata": {},
   "outputs": [
    {
     "name": "stdout",
     "output_type": "stream",
     "text": [
      "Webis has ~34383179 tokens\n"
     ]
    }
   ],
   "source": [
    "webis_tokens = webis.summary_length.sum() + webis.content_length.sum()\n",
    "print(\"Webis has ~{} tokens\".format(webis_tokens))"
   ]
  },
  {
   "cell_type": "code",
   "execution_count": null,
   "id": "179ceefd-c5cd-4990-968d-fad841d921a2",
   "metadata": {},
   "outputs": [],
   "source": [
    "list(webis.subreddit.unique())"
   ]
  },
  {
   "cell_type": "code",
   "execution_count": null,
   "id": "b237a096-1551-48fc-8af5-0e711f5fe4c1",
   "metadata": {},
   "outputs": [],
   "source": [
    "# fallback - just extract first N rows\n",
    "webis = pd.read_json('data/webis/train.json', orient='records', lines=True, nrows=100) \n",
    "# drop webis columns\n",
    "to_drop = [\n",
    "    'author',\n",
    "    'body',\n",
    "    'normalizedBody',\n",
    "    'title'\n",
    "]\n",
    "webis.drop(columns=to_drop, inplace=True)\n",
    "webis.columns"
   ]
  }
 ],
 "metadata": {
  "kernelspec": {
   "display_name": "Python 3 (ipykernel)",
   "language": "python",
   "name": "python3"
  },
  "language_info": {
   "codemirror_mode": {
    "name": "ipython",
    "version": 3
   },
   "file_extension": ".py",
   "mimetype": "text/x-python",
   "name": "python",
   "nbconvert_exporter": "python",
   "pygments_lexer": "ipython3",
   "version": "3.10.0"
  }
 },
 "nbformat": 4,
 "nbformat_minor": 5
}
