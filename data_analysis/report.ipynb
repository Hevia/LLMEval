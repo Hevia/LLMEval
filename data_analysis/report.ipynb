{
 "cells": [
  {
   "cell_type": "code",
   "execution_count": 1,
   "id": "5a7d8990-88c3-48e5-b735-d26dcfae46f8",
   "metadata": {},
   "outputs": [],
   "source": [
    "import pandas as pd\n",
    "import matplotlib.pyplot as plt\n",
    "import numpy as np"
   ]
  },
  {
   "cell_type": "code",
   "execution_count": 48,
   "id": "589212f4-4ca8-4381-bad6-fda88c249588",
   "metadata": {},
   "outputs": [],
   "source": [
    "from sklearn.model_selection import train_test_split\n",
    "from sklearn.metrics import confusion_matrix, ConfusionMatrixDisplay"
   ]
  },
  {
   "cell_type": "markdown",
   "id": "a22e6f47-c459-4e5f-ba73-026786fcf061",
   "metadata": {},
   "source": [
    "## Classification analysis"
   ]
  },
  {
   "cell_type": "code",
   "execution_count": 3,
   "id": "6ece7dd1-3479-4225-ac23-080d029ece00",
   "metadata": {},
   "outputs": [],
   "source": [
    "control = [\n",
    "    \"microsoft\", \"HuggingFaceTB\"\n",
    "]\n",
    "\n",
    "treatment = [\n",
    "    \"deepseek-ai\",\n",
    "    \"EleutherAI\",\n",
    "    \"facebook\",\n",
    "    \"lmsys\",\n",
    "    \"Qwen\"\n",
    "]"
   ]
  },
  {
   "cell_type": "code",
   "execution_count": 33,
   "id": "87919750-f282-4fa3-8e1a-cbcf02af685f",
   "metadata": {},
   "outputs": [],
   "source": [
    "data = pd.read_csv(\"validated/all_scores_predictions.csv\")\n",
    "data[\"Series\"] = data.Model.str.split('/', n=1).str[0]\n",
    "data.loc[data.Series.isin(control), 'Partition'] = 'Control'\n",
    "data.loc[data.Series.isin(treatment), 'Partition'] = 'Treatment'\n",
    "data.loc[data.Partition == 'Control', 'Gold'] = 0\n",
    "data.loc[data.Partition == 'Treatment', 'Gold'] = 1"
   ]
  },
  {
   "cell_type": "code",
   "execution_count": 34,
   "id": "775fb110-8c3d-4286-af4e-800bae0d3c4b",
   "metadata": {},
   "outputs": [],
   "source": [
    "# store model size in millions for plotting\n",
    "model_size = {\n",
    "    'microsoft/Phi-3-small-128k-instruct': 7000,\n",
    "    'microsoft/phi-2': 2700,\n",
    "    'HuggingFaceTB/SmolLM2-360M-Instruct': 360,\n",
    "    'microsoft/Phi-3.5-mini-instruct': 3800,\n",
    "    'HuggingFaceTB/SmolLM2-1.7B-Instruct': 1700,\n",
    "    'microsoft/Phi-3-medium-128k-instruct': 14000,\n",
    "    'microsoft/Phi-4-mini-instruct': 3800,\n",
    "    'HuggingFaceTB/SmolLM2-135M-Instruct': 135,\n",
    "    'microsoft/phi-4': 14000,\n",
    "    'facebook/opt-125m': 125,\n",
    "    'deepseek-ai/DeepSeek-R1-Distill-Qwen-7B': 7000,\n",
    "    'Qwen/Qwen2.5-0.5B-Instruct': 500,\n",
    "    'lmsys/vicuna-13b-v1.3': 13000,\n",
    "    'lmsys/vicuna-7b-v1.5': 7000,\n",
    "    'EleutherAI/gpt-neo-1.3B': 1300,\n",
    "    'Qwen/Qwen2.5-1.5B-Instruct': 1500,\n",
    "    'facebook/opt-2.7b': 2700,\n",
    "    'facebook/opt-6.7b': 6700,\n",
    "    'EleutherAI/gpt-neo-125m': 125,\n",
    "    'Qwen/Qwen2.5-7B-Instruct': 7000,\n",
    "    'facebook/opt-1.3b': 1300,\n",
    "    'EleutherAI/gpt-neo-2.7B': 2700,\n",
    "    'facebook/opt-350m':350,\n",
    "    'Qwen/Qwen2.5-3B-Instruct': 3000,\n",
    "    'deepseek-ai/DeepSeek-R1-Distill-Qwen-1.5B': 1500\n",
    "}\n",
    "for m, s in model_size.items():\n",
    "    data.loc[data.Model == m, 'Size'] = s\n",
    "\n",
    "data = data.sort_values(by=['Series', 'Size'])"
   ]
  },
  {
   "cell_type": "code",
   "execution_count": 74,
   "id": "7fa5532a-fa48-45e5-a042-b1eb92a2a79d",
   "metadata": {},
   "outputs": [],
   "source": [
    "classifiers = [\"RandomForest\"]\n",
    "\n",
    "def accuracy_by_model_with_scale(data, clf):\n",
    "    acc = dict()\n",
    "    for series_name in data.Series.unique().tolist():\n",
    "        acc[series_name] = dict()\n",
    "        \n",
    "    curr = f\"{clf}_prediction\"\n",
    "    for model, group in data.groupby('Model'):\n",
    "        curr_series = group.Series.unique()[0]\n",
    "        correct = group.loc[group[curr] == group.Gold]\n",
    "        curr_acc = round(len(correct) / group.shape[0], 4)\n",
    "        acc[curr_series][model] = (curr_acc, group.shape[0])\n",
    "    return acc\n",
    "\n",
    "\n",
    "\n",
    "for clf in classifiers:\n",
    "    gb_acc = accuracy_by_model_with_scale(data, \"GradientBoosting\")\n",
    "    lr_acc = accuracy_by_model_with_scale(data, \"LogisticRegression\")\n",
    "    rf_acc = accuracy_by_model_with_scale(data, \"RandomForest\")"
   ]
  },
  {
   "cell_type": "code",
   "execution_count": 77,
   "id": "e5c97aa1-4313-4e91-972b-88f8ba646ef6",
   "metadata": {},
   "outputs": [],
   "source": [
    "from sklearn.metrics import roc_auc_score"
   ]
  },
  {
   "cell_type": "code",
   "execution_count": 82,
   "id": "49dfc353-60d4-4c97-a736-4a791346cc30",
   "metadata": {},
   "outputs": [
    {
     "name": "stdout",
     "output_type": "stream",
     "text": [
      "GradientBoosting\n",
      "0.7928986776698738\n",
      "LogisticRegression\n",
      "0.5999565426302464\n",
      "RandomForest\n",
      "0.9008421175308754\n"
     ]
    }
   ],
   "source": [
    "for clf in classifiers:\n",
    "    print(clf)\n",
    "    print(roc_auc_score(data.Gold, data[f\"{clf}_prediction\"]))"
   ]
  },
  {
   "cell_type": "code",
   "execution_count": 75,
   "id": "6eb04b88-2380-415c-9a51-d1eb8811b535",
   "metadata": {},
   "outputs": [
    {
     "name": "stdout",
     "output_type": "stream",
     "text": [
      "GradientBoosting\n",
      "{'HuggingFaceTB/SmolLM2-1.7B-Instruct': (0.6771, 3899), 'HuggingFaceTB/SmolLM2-135M-Instruct': (0.5479, 3508), 'HuggingFaceTB/SmolLM2-360M-Instruct': (0.5959, 3875)}\n",
      "LogisticRegression\n",
      "{'HuggingFaceTB/SmolLM2-1.7B-Instruct': (0.3167, 3899), 'HuggingFaceTB/SmolLM2-135M-Instruct': (0.1257, 3508), 'HuggingFaceTB/SmolLM2-360M-Instruct': (0.1886, 3875)}\n",
      "RandomForest\n",
      "{'HuggingFaceTB/SmolLM2-1.7B-Instruct': (0.8633, 3899), 'HuggingFaceTB/SmolLM2-135M-Instruct': (0.7779, 3508), 'HuggingFaceTB/SmolLM2-360M-Instruct': (0.8343, 3875)}\n",
      "\n",
      "GradientBoosting\n",
      "{'EleutherAI/gpt-neo-1.3B': (0.903, 3743), 'EleutherAI/gpt-neo-125m': (0.915, 3777), 'EleutherAI/gpt-neo-2.7B': (0.8939, 3742)}\n",
      "LogisticRegression\n",
      "{'EleutherAI/gpt-neo-1.3B': (0.8111, 3743), 'EleutherAI/gpt-neo-125m': (0.9251, 3777), 'EleutherAI/gpt-neo-2.7B': (0.7886, 3742)}\n",
      "RandomForest\n",
      "{'EleutherAI/gpt-neo-1.3B': (0.9557, 3743), 'EleutherAI/gpt-neo-125m': (0.9656, 3777), 'EleutherAI/gpt-neo-2.7B': (0.9519, 3742)}\n",
      "\n"
     ]
    }
   ],
   "source": [
    "targets = [\"HuggingFaceTB\", \"EleutherAI\"]\n",
    "\n",
    "for t in targets:\n",
    "    print(\"GradientBoosting\")\n",
    "    print(gb_acc[t])\n",
    "    print(\"LogisticRegression\")\n",
    "    print(lr_acc[t])\n",
    "    print(\"RandomForest\")\n",
    "    print(rf_acc[t])\n",
    "    print()\n",
    "\n",
    "# gb_acc[\"HuggingFaceTB\"]"
   ]
  },
  {
   "cell_type": "code",
   "execution_count": 70,
   "id": "a2f68104-fc56-4421-be78-fca129e65aa5",
   "metadata": {},
   "outputs": [
    {
     "data": {
      "text/plain": [
       "{'EleutherAI/gpt-neo-1.3B': (0.9030189687416511, 3743),\n",
       " 'EleutherAI/gpt-neo-125m': (0.9150119142176331, 3777),\n",
       " 'EleutherAI/gpt-neo-2.7B': (0.8939070016034206, 3742)}"
      ]
     },
     "execution_count": 70,
     "metadata": {},
     "output_type": "execute_result"
    }
   ],
   "source": [
    "gb_acc[\"EleutherAI\"]"
   ]
  },
  {
   "cell_type": "code",
   "execution_count": 78,
   "id": "1571a5ed-0fa9-4be1-a4f3-39ea71bf8125",
   "metadata": {},
   "outputs": [
    {
     "name": "stdout",
     "output_type": "stream",
     "text": [
      "GradientBoosting\n"
     ]
    },
    {
     "data": {
      "image/png": "[encoded data removed]",
      "text/plain": [
       "<Figure size 640x480 with 2 Axes>"
      ]
     },
     "metadata": {},
     "output_type": "display_data"
    },
    {
     "name": "stdout",
     "output_type": "stream",
     "text": [
      "LogisticRegression\n"
     ]
    },
    {
     "data": {
      "image/png": "[encoded data removed]",
      "text/plain": [
       "<Figure size 640x480 with 2 Axes>"
      ]
     },
     "metadata": {},
     "output_type": "display_data"
    },
    {
     "name": "stdout",
     "output_type": "stream",
     "text": [
      "RandomForest\n"
     ]
    },
    {
     "data": {
      "image/png": "[encoded data removed]",
      "text/plain": [
       "<Figure size 640x480 with 2 Axes>"
      ]
     },
     "metadata": {},
     "output_type": "display_data"
    }
   ],
   "source": [
    "classifiers = [\"GradientBoosting\", \"LogisticRegression\", \"RandomForest\"]\n",
    "\n",
    "# acc = dict()\n",
    "\n",
    "for clf in classifiers:\n",
    "    curr = f\"{clf}_prediction\"\n",
    "    print(clf)\n",
    "    cm = confusion_matrix(data.Gold, data[curr]) \n",
    "    disp = ConfusionMatrixDisplay(confusion_matrix=cm, display_labels=['Not contaminated', 'Likely contaminated'])\n",
    "    disp.plot()\n",
    "    plt.title(f\"{clf} Confusion matrix\".format(int(size)))\n",
    "    curr_fig = plt.gcf()\n",
    "    plt.show()\n",
    "    curr_fig.savefig(f\"plots/confusion_{clf}.png\", dpi=300, bbox_inches='tight')\n",
    "    \n",
    "    # correct = data.loc[data[curr] == data.Gold]\n",
    "    # acc = len(correct) / data.shape[0]\n",
    "    # print(acc)\n",
    "    # for size, group in data.groupby('Size'):\n",
    "    #     print(size)\n",
    "    #     # correct = group.loc[group[curr] == group.Gold]\n",
    "\n",
    "    #     cm = confusion_matrix(group.Gold, group[curr]) \n",
    "    #     disp = ConfusionMatrixDisplay(confusion_matrix=cm, display_labels=['Not contaminated', 'Likely contaminated'])\n",
    "    #     disp.plot()\n",
    "    #     plt.title(\"Confusion matrix for models of size {} (in millions)\".format(int(size)))\n",
    "    #     curr_fig = plt.gcf()\n",
    "    #     plt.show()\n",
    "    #     curr_fig.savefig(f\"plots/confusion_{int(size)}M.png\", dpi=300, bbox_inches='tight')\n",
    "        # print(\"{}\\t{}\".format(size, round(len(correct) / group.shape[0], 4)))\n",
    "        # print()\n",
    "        # for dataset, d_group in m_group.groupby('Dataset_Name'):\n",
    "        #     print(dataset)\n",
    "        #     correct = d_group.loc[d_group[curr] == d_group.Gold]\n",
    "        #     print(len(correct) / d_group.shape[0])"
   ]
  },
  {
   "cell_type": "code",
   "execution_count": 26,
   "id": "1a9dc232-141a-46be-a4a1-9434317a8e89",
   "metadata": {},
   "outputs": [
    {
     "data": {
      "text/plain": [
       "7"
      ]
     },
     "execution_count": 26,
     "metadata": {},
     "output_type": "execute_result"
    }
   ],
   "source": [
    "len(data.Series.unique())"
   ]
  },
  {
   "cell_type": "code",
   "execution_count": null,
   "id": "86112a6a-1558-4ff2-91f6-551faa6f5abb",
   "metadata": {},
   "outputs": [],
   "source": [
    "data"
   ]
  },
  {
   "cell_type": "code",
   "execution_count": 6,
   "id": "89096282-c8ba-4af6-a840-bfb2a3b4f4d9",
   "metadata": {},
   "outputs": [],
   "source": [
    "_train, test = train_test_split(data, test_size=0.2, random_state=42)"
   ]
  },
  {
   "cell_type": "code",
   "execution_count": 7,
   "id": "40e36a1b-3224-4ee7-8b24-60f653f69a74",
   "metadata": {},
   "outputs": [
    {
     "data": {
      "text/plain": [
       "Index(['Min_10.0%_Prob', 'Min_20.0%_Prob'], dtype='object')"
      ]
     },
     "execution_count": 7,
     "metadata": {},
     "output_type": "execute_result"
    }
   ],
   "source": [
    "test.columns[test.isnull().any()]"
   ]
  },
  {
   "cell_type": "code",
   "execution_count": 8,
   "id": "7e11e86c-7958-4e08-8cfd-f041f14fb43b",
   "metadata": {},
   "outputs": [
    {
     "data": {
      "text/plain": [
       "GradientBoosting_prediction\n",
       "1    10121\n",
       "0     5095\n",
       "Name: count, dtype: int64"
      ]
     },
     "execution_count": 8,
     "metadata": {},
     "output_type": "execute_result"
    }
   ],
   "source": [
    "test.GradientBoosting_prediction.value_counts()"
   ]
  },
  {
   "cell_type": "code",
   "execution_count": 16,
   "id": "638e3d03-4030-40cf-861c-91099b9c52f0",
   "metadata": {},
   "outputs": [],
   "source": [
    "classifier_colors = {'GradientBoosting': \"c\", 'LogisticRegression': \"m\", \"RandomForest\": \"g\"}\n",
    "models = [m.replace(\"df\", \"\").replace(\"_\", \" \").title() for m in data['Model'].unique()]\n",
    "x = np.arange(len(models))\n",
    "width=0.3"
   ]
  },
  {
   "cell_type": "markdown",
   "id": "930d9355-1a95-4caa-8db6-071ab6d9a03b",
   "metadata": {},
   "source": [
    "## D5 - plot small families min k prob"
   ]
  },
  {
   "cell_type": "code",
   "execution_count": null,
   "id": "58ef53eb-4fef-4aed-b5a9-0a1c091b8e4b",
   "metadata": {},
   "outputs": [],
   "source": [
    "data = pd.read_csv(\"./smol_gpt_opt_min_k_prob.csv\")"
   ]
  },
  {
   "cell_type": "code",
   "execution_count": null,
   "id": "1f8f49b4-7640-42f6-b5ef-f6758a3270c0",
   "metadata": {},
   "outputs": [],
   "source": [
    "for source, data_g in data.groupby('source_dataset'):\n",
    "    # create plot\n",
    "    plt.figure(figsize=(8, 5))\n",
    "    plt.title(f\"Average Min-k prob for {source}\")\n",
    "    # loop over series\n",
    "    for s_name, s_g in data_g.groupby('series'):\n",
    "        for i, (k_val, gg) in enumerate(s_g.groupby('k')):\n",
    "            x_positions = [models.index(m.replace(\"df\", \"\").replace(\"_\", \" \").title()) for m in gg['model']]\n",
    "            plt.bar(\n",
    "                np.array(x_positions) + (i * width - width / 2),\n",
    "                gg['average'],\n",
    "                yerr=gg['std'],\n",
    "                width=width,\n",
    "                label=f\"k={k_val}\",\n",
    "                color=series_colors[s_name],\n",
    "                alpha=(0.8 - i * 0.3)\n",
    "            )\n",
    "    plt.xlabel(\"Model\")\n",
    "    # plt.ylabel(\"Average min-k prob\")\n",
    "    plt.xticks(x, models, rotation=45)  \n",
    "    plt.ylim(3, 10.25)         \n",
    "    plt.grid(axis='y', linestyle='--', alpha=0.7)\n",
    "    # plt.legend(k_colors.keys())\n",
    "    curr_fig = plt.gcf()\n",
    "    plt.show()\n",
    "    curr_fig.savefig(f\"plots/{source}_avg_min_k_prob_smol_gpt_opt.png\", dpi=300, bbox_inches='tight')"
   ]
  },
  {
   "cell_type": "code",
   "execution_count": null,
   "id": "782ca363-9226-4620-baa7-36e40cb6228f",
   "metadata": {},
   "outputs": [],
   "source": [
    "for source, data_g in data.groupby('source_dataset'):\n",
    "    # create plot\n",
    "    plt.figure(figsize=(8, 5))\n",
    "    plt.title(f\"Average Min-k prob for {source}\")\n",
    "    \n",
    "    # loop over series\n",
    "    for k_val, k_g in data_g.groupby('k'):\n",
    "        for s_name, gg in k_g.groupby('series'):\n",
    "            models = [m.replace(\"df\", \"\").replace(\"_\", \" \").title() for m in gg['model']]\n",
    "            plt.errorbar(\n",
    "                # gg['size_millions'],\n",
    "                # gg['model'],\n",
    "                models,\n",
    "                # gg['rank'],\n",
    "                gg['average'],\n",
    "                yerr=gg['std'],\n",
    "                capsize=5,\n",
    "                marker='o',\n",
    "                linestyle='-',\n",
    "                alpha=0.7,\n",
    "                label=s_name,\n",
    "                color=series_colors[s_name]\n",
    "            )\n",
    "        \n",
    "    plt.xlabel(\"Model\")\n",
    "    # plt.ylabel(\"Average min-k prob\")\n",
    "    plt.xticks(rotation=45)\n",
    "    plt.ylim(3, 9)         \n",
    "    plt.grid(axis='y', linestyle='--', alpha=0.7)\n",
    "    plt.legend(series_colors.keys())\n",
    "    plt.show()  # Show the plot for each dataset across all 3 model series"
   ]
  },
  {
   "cell_type": "markdown",
   "id": "bf039697-5327-4403-847a-616ec425b542",
   "metadata": {},
   "source": [
    "## Average metric reports"
   ]
  },
  {
   "cell_type": "code",
   "execution_count": null,
   "id": "a5e2b1c7-3539-42e9-882a-5f2860382b5e",
   "metadata": {},
   "outputs": [],
   "source": [
    "dataset_name = \"CNN-DailyMail\""
   ]
  },
  {
   "cell_type": "code",
   "execution_count": null,
   "id": "6017e4c3-6513-444a-b011-b4ee03958e34",
   "metadata": {},
   "outputs": [],
   "source": [
    "control = [\n",
    "    \"microsoft\", \"HuggingFaceTB\"\n",
    "]\n",
    "\n",
    "treatment = [\n",
    "    \"deepseek-ai\",\n",
    "    \"EleutherAI\",\n",
    "    \"facebook\",\n",
    "    \"lmsys\",\n",
    "    \"Qwen\"\n",
    "]"
   ]
  },
  {
   "cell_type": "code",
   "execution_count": null,
   "id": "a7d90b96-270b-4f80-9cfa-924f0fbf1df8",
   "metadata": {},
   "outputs": [],
   "source": [
    "data = pd.read_csv(f\"./validated/{dataset_name}_validated.csv\")\n",
    "data[\"Series\"] = data.Model.str.split('/', n=1).str[0]\n",
    "data.loc[data.Series.isin(control), 'Partition'] = 'Control'\n",
    "data.loc[data.Series.isin(treatment), 'Partition'] = 'Treatment'"
   ]
  },
  {
   "cell_type": "code",
   "execution_count": null,
   "id": "2f83a1b9-0a23-46b1-abc3-3b04d481a2f4",
   "metadata": {},
   "outputs": [],
   "source": [
    "score_names = [\n",
    "    'cos_sim',\n",
    "    'levenshtein',\n",
    "    'min_k_Min_10.0_Prob',\n",
    "    'min_k_Min_20.0_Prob',\n",
    "    'min_k_Min_30.0_Prob',\n",
    "    'min_k_Min_40.0_Prob',\n",
    "    'min_k_Min_50.0_Prob',\n",
    "    'rouge1_precision',\n",
    "    'rouge1_recall',\n",
    "    'rouge1_fmeasure',\n",
    "    'rouge2_precision',\n",
    "    'rouge2_recall',\n",
    "    'rouge2_fmeasure',\n",
    "    'rougeL_precision',\n",
    "    'rougeL_recall',\n",
    "    'rougeL_fmeasure'\n",
    "]"
   ]
  },
  {
   "cell_type": "code",
   "execution_count": null,
   "id": "a8eb2664-dc3d-4027-8993-8d247d2c9b30",
   "metadata": {},
   "outputs": [],
   "source": [
    "# store model size in millions for plotting\n",
    "model_size = {\n",
    "    'microsoft/phi-2': 2700,\n",
    "    'HuggingFaceTB/SmolLM2-360M-Instruct': 360,\n",
    "    'microsoft/Phi-3.5-mini-instruct': 3800,\n",
    "    'HuggingFaceTB/SmolLM2-1.7B-Instruct': 1700,\n",
    "    'microsoft/Phi-3-medium-128k-instruct': 0.128,\n",
    "    'microsoft/Phi-4-mini-instruct': 3800,\n",
    "    'HuggingFaceTB/SmolLM2-135M-Instruct': 135,\n",
    "    'microsoft/phi-4': 14000,\n",
    "    'facebook/opt-125m': 125,\n",
    "    'deepseek-ai/DeepSeek-R1-Distill-Qwen-7B': 7000,\n",
    "    'Qwen/Qwen2.5-0.5B-Instruct': 500,\n",
    "    'lmsys/vicuna-13b-v1.3': 13000,\n",
    "    'lmsys/vicuna-7b-v1.5': 7000,\n",
    "    'EleutherAI/gpt-neo-1.3B': 1300,\n",
    "    'Qwen/Qwen2.5-1.5B-Instruct': 1500,\n",
    "    'facebook/opt-2.7b': 2700,\n",
    "    'facebook/opt-6.7b': 6700,\n",
    "    'EleutherAI/gpt-neo-125m': 125,\n",
    "    'Qwen/Qwen2.5-7B-Instruct': 7000,\n",
    "    'facebook/opt-1.3b': 1300,\n",
    "    'EleutherAI/gpt-neo-2.7B': 2700,\n",
    "    'facebook/opt-350m':350,\n",
    "    'Qwen/Qwen2.5-3B-Instruct': 3000,\n",
    "    'deepseek-ai/DeepSeek-R1-Distill-Qwen-1.5B': 1500\n",
    "}\n",
    "for m, s in model_size.items():\n",
    "    data.loc[data.Model == m, 'Size'] = s\n",
    "\n",
    "data = data.sort_values(by=['Series', 'Size'])"
   ]
  },
  {
   "cell_type": "code",
   "execution_count": null,
   "id": "34773f5c-b5e9-408c-b59a-4eccf1507132",
   "metadata": {},
   "outputs": [],
   "source": [
    "models = data.Model.unique().tolist()\n",
    "x = np.arange(len(models))\n",
    "width=0.3"
   ]
  },
  {
   "cell_type": "code",
   "execution_count": null,
   "id": "fbcac460-4929-4a1b-927a-07a987f5239d",
   "metadata": {},
   "outputs": [],
   "source": [
    "p_colors = {\n",
    "    'Control': 'y',\n",
    "    'Treatment': 'g'\n",
    "}"
   ]
  },
  {
   "cell_type": "code",
   "execution_count": null,
   "id": "7b9205ea-4df0-494d-9121-c3c26875ad48",
   "metadata": {},
   "outputs": [],
   "source": [
    "\n",
    "for score in score_names:\n",
    "    plt.figure(figsize=(5, 5))\n",
    "    plt.title(f\"Average {score} report for {dataset_name}\")\n",
    "    \n",
    "    for partition, p_data in data.groupby('Partition'):\n",
    "        # for i, (series, s_data) in enumerate(p_data.groupby('Series')):\n",
    "        p_data = p_data.sort_values(by='Size')\n",
    "\n",
    "        # plot\n",
    "        plt.bar(\n",
    "                partition,\n",
    "                round(p_data.loc[:, score].mean(), 4),\n",
    "                # yerr=model_std,\n",
    "                width=0.3,\n",
    "                # capsize=5,\n",
    "                # marker='o',\n",
    "                # linestyle='-',\n",
    "                color=p_colors[partition],\n",
    "                label=partition\n",
    "        )\n",
    "    plt.xticks(rotation=45)  \n",
    "    plt.show() \n",
    "    # curr_fig = plt.gcf()\n",
    "    # plt.show()\n",
    "    # curr_fig.savefig(f\"plots/{dataset_name}_{score}_bars.png\", dpi=300, bbox_inches='tight')"
   ]
  },
  {
   "cell_type": "code",
   "execution_count": null,
   "id": "2aa813cf-8deb-40e5-bbe9-efe37f60837e",
   "metadata": {},
   "outputs": [],
   "source": [
    "for score in score_names:\n",
    "    plt.figure(figsize=(15, 5))\n",
    "    plt.title(f\"Average {score} report for {dataset_name}\")\n",
    "    \n",
    "    for partition, p_data in data.groupby('Partition'):\n",
    "        for i, (series, s_data) in enumerate(p_data.groupby('Series')):\n",
    "            s_data = s_data.sort_values(by='Size')\n",
    "            # get model names for xticks\n",
    "            model_names = s_data['Model'].unique().tolist()\n",
    "            model_ticks = [models.index(m) for m in model_names]\n",
    "            model_labels = [m.split(\"/\")[1].replace(\"-\", \" \").title() for m in model_names]\n",
    "                    \n",
    "            # extract current score metrics\n",
    "            model_metrics = [s_data.loc[s_data.Model == m, score] for m in model_names]\n",
    "            model_avg = [round(mm.mean(), 4) for mm in model_metrics]\n",
    "            model_std = [round(mm.std(), 4) for mm in model_metrics]\n",
    "    \n",
    "            # plot\n",
    "            plt.bar(\n",
    "                    model_labels,\n",
    "                    model_avg,\n",
    "                    # yerr=model_std,\n",
    "                    width=width,\n",
    "                    # capsize=5,\n",
    "                    # marker='o',\n",
    "                    # linestyle='-',\n",
    "                    color=p_colors[partition],\n",
    "                    label=series\n",
    "            )\n",
    "    plt.xticks(rotation=45, ha='right')  \n",
    "    # plt.show() \n",
    "    curr_fig = plt.gcf()\n",
    "    plt.show()\n",
    "    curr_fig.savefig(f\"plots/{dataset_name}_{score}_bars.png\", dpi=300, bbox_inches='tight')"
   ]
  },
  {
   "cell_type": "code",
   "execution_count": null,
   "id": "3746c12f-8e64-4842-a896-814f1a7ea4ee",
   "metadata": {},
   "outputs": [],
   "source": [
    "score_types = {\n",
    "    'cos_sim': 'cosine',\n",
    "    'levenshtein': 'levenshtein',\n",
    "    'min_k_Min_10.0_Prob': 'min_k',\n",
    "    'min_k_Min_20.0_Prob': 'min_k',\n",
    "    'min_k_Min_30.0_Prob': 'min_k',\n",
    "    'min_k_Min_40.0_Prob': 'min_k',\n",
    "    'min_k_Min_50.0_Prob': 'min_k',\n",
    "    'rouge1_precision': 'rouge',\n",
    "    'rouge1_recall': 'rouge',\n",
    "    'rouge1_fmeasure': 'rouge',\n",
    "    'rouge2_precision': 'rouge',\n",
    "    'rouge2_recall': 'rouge',\n",
    "    'rouge2_fmeasure': 'rouge',\n",
    "    'rougeL_precision': 'rouge',\n",
    "    'rougeL_recall': 'rouge',\n",
    "    'rougeL_fmeasure': 'rouge'\n",
    "}\n",
    "score_ranges = {\n",
    "    'cosine': (0, 1),\n",
    "    'levenshtein': (50, 450),\n",
    "    'min_k': (5, 15),\n",
    "    'rouge': (0, 1)\n",
    "}"
   ]
  },
  {
   "cell_type": "markdown",
   "id": "ef0e72fd-6f58-488f-b486-6bd0cadc1b3e",
   "metadata": {},
   "source": [
    "### Generate plots"
   ]
  },
  {
   "cell_type": "code",
   "execution_count": null,
   "id": "562d5b24-d7af-46fb-bdc5-62d1726aeb8a",
   "metadata": {},
   "outputs": [],
   "source": [
    "# loop over scores\n",
    "for score in score_names:\n",
    "    plt.figure(figsize=(15, 5))\n",
    "    plt.title(f\"Average {score} report for {dataset_name}\")\n",
    "    # loop over series\n",
    "    for series, s_data in data.groupby('Series'):\n",
    "        s_data = s_data.sort_values(by='Size')\n",
    "        # get model names for xticks\n",
    "        model_names = s_data['Model'].unique()\n",
    "        model_labels = [m.split(\"/\")[1].replace(\"-\", \" \").title() for m in model_names]\n",
    "                \n",
    "        # extract current score metrics\n",
    "        model_metrics = [s_data.loc[s_data.Model == m, score] for m in model_names]\n",
    "        model_avg = [round(mm.mean(), 4) for mm in model_metrics]\n",
    "        # model_std = [round(mm.std(), 4) for mm in model_metrics]\n",
    "\n",
    "        # plot\n",
    "        plt.plot(\n",
    "                model_labels,\n",
    "                model_avg,\n",
    "                # yerr=model_std,\n",
    "                # capsize=5,\n",
    "                marker='o',\n",
    "                linestyle='-',\n",
    "                # alpha=0.7,\n",
    "                label=series\n",
    "        )\n",
    "    \n",
    "    plt.xlabel(\"Model series\")\n",
    "    # plt.ylabel(\"Average min-k prob\")\n",
    "    plt.xticks(rotation=45,ha='right')\n",
    "\n",
    "    st = score_types[score]\n",
    "    srx, sry = score_ranges[st]\n",
    "    plt.ylim(srx, sry)         \n",
    "    plt.grid(axis='y', linestyle='--', alpha=0.7)\n",
    "    # plt.legend(series_colors.keys())\n",
    "    plt.show()  # Show the plot for each dataset across all 3 model series\n",
    "    # curr_fig = plt.gcf()\n",
    "    # plt.show()\n",
    "    # curr_fig.savefig(f\"plots/{dataset_name}_{score}_line.png\", dpi=300, bbox_inches='tight')"
   ]
  },
  {
   "cell_type": "code",
   "execution_count": null,
   "id": "9b2b92da-2532-4934-a929-644b07e90e75",
   "metadata": {},
   "outputs": [],
   "source": []
  },
  {
   "cell_type": "markdown",
   "id": "eb644773-8287-4bab-a1ea-f15a66285aac",
   "metadata": {},
   "source": [
    "### Sort by partition (control vs. treatment)"
   ]
  },
  {
   "cell_type": "code",
   "execution_count": null,
   "id": "c1a25399-40a0-4032-ac1e-1f6f496936b6",
   "metadata": {},
   "outputs": [],
   "source": [
    "result = pd.DataFrame()\n",
    "col_namer = { i+1: s.replace(\"_\", \" \") for i, s in enumerate(score_names)}\n",
    "col_namer[0] = 'Partition'\n",
    "\n",
    "# loop over models in a group\n",
    "for partition, s_data in data.groupby('Partition'):\n",
    "    row = [partition]\n",
    "    for score in score_names:\n",
    "        # add the average value for each metric for this model\n",
    "        metric = s_data.loc[:,score]\n",
    "        avg = round(metric.mean(), 4)\n",
    "        dev = round(metric.std(), 4)\n",
    "        row.append(\"{} ± {}\".format(avg, dev))\n",
    "    temp = pd.DataFrame([row])\n",
    "    result = pd.concat([result, temp])\n",
    "\n",
    "# replace underscores and unnecessary symbols\n",
    "result = result.rename(columns=col_namer, index=lambda c: str(c).replace(\"_\", \" \"))\n",
    "# use partition name as index\n",
    "result = result.set_index('Partition')"
   ]
  },
  {
   "cell_type": "code",
   "execution_count": null,
   "id": "386d96c6-36db-4433-b052-655bbc837e19",
   "metadata": {},
   "outputs": [],
   "source": [
    "for name, g in result.groupby('Partition'):\n",
    "    with open(f\"tex/{dataset_name}_{name}_avg_metrics.tex\", mode='w+') as writer:\n",
    "        writer.write(g.T.to_latex(label=\"tab:\", caption=f\"Average metric values across the {name.lower()} subgroup for {dataset_name}\"))"
   ]
  },
  {
   "cell_type": "markdown",
   "id": "fec58fd1-10fa-4c9d-80e7-010fdc66b410",
   "metadata": {},
   "source": [
    "### Sort by model series"
   ]
  },
  {
   "cell_type": "code",
   "execution_count": null,
   "id": "d2ce02b2-f36a-42bd-86ca-dcc3f395339b",
   "metadata": {
    "scrolled": true
   },
   "outputs": [],
   "source": [
    "result = pd.DataFrame()\n",
    "col_namer = { i+2: s.replace(\"_\", \" \") for i, s in enumerate(score_names)}\n",
    "col_namer[0] = 'Model'\n",
    "col_namer[1] = 'Series'\n",
    "\n",
    "# loop over models in a group\n",
    "for series, s_data in data.groupby('Partition'):\n",
    "    for model, m_data in s_data.groupby('Model'):\n",
    "        row = [model, m_data['Series'].unique()[0]]\n",
    "        for score in score_names:\n",
    "            # add the average value for each metric for this model\n",
    "            metric = m_data.loc[:,score]\n",
    "            avg = round(metric.mean(), 4)\n",
    "            dev = round(metric.std(), 4)\n",
    "            row.append(\"{}±{}\".format(avg, dev))\n",
    "        temp = pd.DataFrame([row])\n",
    "        result = pd.concat([result, temp])\n",
    "\n",
    "# replace underscores and unnecessary symbols\n",
    "result = result.rename(columns=col_namer, index=lambda c: str(c).replace(\"_\", \" \"))\n",
    "# use model names as index\n",
    "# result = result.set_index(0)"
   ]
  },
  {
   "cell_type": "code",
   "execution_count": null,
   "id": "712b7cb4-eaa9-463c-b2c1-a427ade33055",
   "metadata": {},
   "outputs": [],
   "source": [
    "for name, g in result.groupby('Series'):\n",
    "    curr = g.set_index('Model').drop(columns='Series')\n",
    "    with open(f\"tex/{dataset_name}_{name}_avg_metrics.tex\", mode='w+') as writer:\n",
    "        writer.write(curr.T.to_latex(label=\"tab:\", caption=f\"Average metric values across the {name.lower()} subgroup for {dataset_name}\"))"
   ]
  },
  {
   "cell_type": "code",
   "execution_count": null,
   "id": "2c8f2ae9-a440-4a20-a24d-103c236aa2b9",
   "metadata": {},
   "outputs": [],
   "source": [
    "# # Treatment\n",
    "df_deepseek_1_5b = pd.read_csv(f\"./{dataset_name}/Treatment/results_deepseek-ai_DeepSeek-R1-Distill-Qwen-1.5B_{dataset_name}.csv\")\n",
    "\n",
    "df_gpt_neo_125m = pd.read_csv(f\"./{dataset_name}/Treatment/results_EleutherAI_gpt-neo-125m_{dataset_name}.csv\")\n",
    "df_gpt_neo_1_3b = pd.read_csv(f\"./{dataset_name}/Treatment/results_EleutherAI_gpt-neo-1.3B_{dataset_name}.csv\")\n",
    "df_gpt_neo_2_7b = pd.read_csv(f\"./{dataset_name}/Treatment/results_EleutherAI_gpt-neo-2.7B_{dataset_name}.csv\")\n",
    "\n",
    "df_opt_125m = pd.read_csv(f\"./{dataset_name}/Treatment/results_facebook_opt-125m_{dataset_name}.csv\")\n",
    "df_opt_1_3b = pd.read_csv(f\"./{dataset_name}/Treatment/results_facebook_opt-1.3b_{dataset_name}.csv\")\n",
    "# df_opt_350m = pd.read_csv(f\"./{dataset_name}/Treatment/results_facebook_opt-350m_{dataset_name}.csv\")\n",
    "df_opt_2_7b = pd.read_csv(f\"./{dataset_name}/Treatment/results_facebook_opt-2.7b_{dataset_name}.csv\")\n",
    "df_opt_6_7b = pd.read_csv(f\"./{dataset_name}/Treatment/results_facebook_opt-6.7b_{dataset_name}.csv\")\n",
    "\n",
    "df_vicuna_7b = pd.read_csv(f\"./{dataset_name}/Treatment/results_lmsys_vicuna-7b-v1.5_{dataset_name}.csv\")\n",
    "\n",
    "# # Control\n",
    "df_smol_1_7b = pd.read_csv(f\"./{dataset_name}/Control/results_HuggingFaceTB_SmolLM2-1.7B-Instruct_{dataset_name}.csv\")\n",
    "df_smol_135m = pd.read_csv(f\"./{dataset_name}/Control/results_HuggingFaceTB_SmolLM2-135M-Instruct_{dataset_name}.csv\")\n",
    "df_smol_360m = pd.read_csv(f\"./{dataset_name}/Control/results_HuggingFaceTB_SmolLM2-360M-Instruct_{dataset_name}.csv\")\n",
    "\n",
    "df_phi_3_5 = pd.read_csv(f\"./{dataset_name}/Control/results_microsoft_Phi-3.5-mini-instruct_{dataset_name}.csv\")\n"
   ]
  },
  {
   "cell_type": "code",
   "execution_count": null,
   "id": "4041f584-7d8c-4eb5-b3d2-7ad2c9e6990a",
   "metadata": {},
   "outputs": [],
   "source": [
    "dfs = {\n",
    "    \"df_deepseek_1_5b\": df_deepseek_1_5b,\n",
    "    \"df_gpt_neo_1_3b\": df_gpt_neo_1_3b,\n",
    "    \"df_gpt_neo_125m\": df_gpt_neo_125m,\n",
    "    \"df_gpt_neo_2_7b\": df_gpt_neo_2_7b,\n",
    "    \"df_opt_1_3b\": df_opt_1_3b,\n",
    "    \"df_opt_125m\": df_opt_125m,\n",
    "    \"df_opt_2_7b\": df_opt_2_7b,\n",
    "    # \"df_opt_350m\": df_opt_350m,\n",
    "    \"df_opt_6_7b\": df_opt_6_7b,\n",
    "    \"df_vicuna_7b\": df_vicuna_7b,\n",
    "    \"df_smol_1_7b\": df_smol_1_7b,\n",
    "    \"df_smol_135m\": df_smol_135m,\n",
    "    \"df_smol_360m\": df_smol_360m,\n",
    "    \"df_phi_3_5\": df_phi_3_5\n",
    "}"
   ]
  },
  {
   "cell_type": "code",
   "execution_count": null,
   "id": "193cabdf-6538-4991-9ba2-fd3c0031e966",
   "metadata": {},
   "outputs": [],
   "source": [
    "gpt = [\"df_gpt_neo_125m\", \"df_gpt_neo_1_3b\", \"df_gpt_neo_2_7b\"]\n",
    "# opt = [\"df_opt_125m\", \"df_opt_350m\", \"df_opt_1_3b\", \"df_opt_2_7b\", \"df_opt_6_7b\"]\n",
    "opt = [\"df_opt_125m\", \"df_opt_1_3b\", \"df_opt_2_7b\", \"df_opt_6_7b\"]\n",
    "vicuna = [\"df_vicuna_7b\"]\n",
    "smol = [\"df_smol_135m\", \"df_smol_360m\", \"df_smol_1_7b\"]\n",
    "phi = [\"df_phi_3_5\"]\n",
    "treatment = gpt + opt + vicuna\n",
    "contam = [\"df_gpt_neo_125m\", \"df_opt_125m\"]\n",
    "\n",
    "series = {\n",
    "    \"gpt\": gpt,\n",
    "    \"opt\": opt,\n",
    "    \"vicuna\": vicuna,\n",
    "    \"smol\": smol,\n",
    "    \"phi\": phi\n",
    "}\n",
    "# gpt = [\"df_gpt_neo_1_3b\", \"df_gpt_neo_2_7b\"]\n",
    "# opt = [\"df_opt_1_3b\", \"df_opt_2_7b\"]"
   ]
  },
  {
   "cell_type": "code",
   "execution_count": null,
   "id": "75770851-feb6-45b2-83bf-5f30fe3d09c1",
   "metadata": {},
   "outputs": [],
   "source": [
    "score_names = df_deepseek_1_5b.drop(['Unnamed: 0', 'Model', 'Task_Prefix', 'Dataset_Name', 'Model_Responses', 'Gold_Labels'], axis=1).columns\n",
    "score_names = list(score_names)"
   ]
  },
  {
   "cell_type": "code",
   "execution_count": null,
   "id": "9d0057a9-5053-4c77-ac4d-01d5313a739d",
   "metadata": {},
   "outputs": [],
   "source": [
    "k_values = [\"40\", \"50\"]\n",
    "\n",
    "for k in k_values:\n",
    "    for model in opt:\n",
    "        print(model, k)\n",
    "        temp = dfs[model]\n",
    "        avg = round(temp['Min_{}.0%_Prob'.format(k)].mean(), 4)\n",
    "        sd = round(temp['Min_{}.0%_Prob'.format(k)].std(), 4)\n",
    "        print(\"avg: {}\".format(avg))\n",
    "        print(\"std: {}\".format(sd))"
   ]
  },
  {
   "cell_type": "markdown",
   "id": "7afc8837-dd9c-4857-9004-dc8d7e8daf92",
   "metadata": {},
   "source": [
    "# initial tables - statistical significance check"
   ]
  },
  {
   "cell_type": "code",
   "execution_count": null,
   "id": "b54be1cb-87d5-46a2-9834-360b3217fa43",
   "metadata": {},
   "outputs": [],
   "source": [
    "df_gpt_pairs = pd.read_csv(f\"./t_test/{dataset_name}/gpt_neo_.csv\")\n",
    "df_opt_pairs = pd.read_csv(f\"./t_test/{dataset_name}/opt.csv\")\n",
    "df_smol_pairs = pd.read_csv(f\"./t_test/{dataset_name}/smol.csv\")\n",
    "df_sus_con_pairs = pd.read_csv(f\"./t_test/{dataset_name}/sus_con_compare.csv\")"
   ]
  },
  {
   "cell_type": "code",
   "execution_count": null,
   "id": "bab9727b-8ccc-412a-849a-a155335ea5e4",
   "metadata": {},
   "outputs": [],
   "source": [
    "df_opt_pairs"
   ]
  },
  {
   "cell_type": "markdown",
   "id": "b24998e8-97a3-430a-a5d0-74d14bc82d6c",
   "metadata": {},
   "source": [
    "## initial tables - extract appendix score reports (means, stdevs)"
   ]
  },
  {
   "cell_type": "markdown",
   "id": "25e8eac7-360e-4ca1-b9a4-c4a44c1ca0cd",
   "metadata": {},
   "source": [
    "## initial tables - length check"
   ]
  },
  {
   "cell_type": "code",
   "execution_count": null,
   "id": "a8ba1cb3-50e1-481d-8257-0e6931466125",
   "metadata": {},
   "outputs": [],
   "source": [
    "from nltk import word_tokenize"
   ]
  },
  {
   "cell_type": "code",
   "execution_count": null,
   "id": "c24b9903-a5d5-4407-9c32-d3106d325b8c",
   "metadata": {},
   "outputs": [],
   "source": [
    "values = {\"Model_Responses\": \"\"}\n",
    "for model in dfs:\n",
    "    # dfs[model].fillna(value=values, inplace=True)\n",
    "    dfs[model].dropna(subset=[\"Model_Responses\"], inplace=True)"
   ]
  },
  {
   "cell_type": "code",
   "execution_count": null,
   "id": "cd2cbd3b-b1ea-48f7-854e-f70a784386ba",
   "metadata": {},
   "outputs": [],
   "source": [
    "for model in dfs:\n",
    "    print(model)\n",
    "    out = dfs[model].Model_Responses.apply(word_tokenize).apply(len)\n",
    "    gold = dfs[model].Gold_Labels.apply(word_tokenize).apply(len)\n",
    "    \n",
    "    print(\"response avg. length {}\".format(out.mean()))\n",
    "    print(\"gold avg. length {}\".format(gold.mean()))"
   ]
  },
  {
   "cell_type": "code",
   "execution_count": null,
   "id": "1fca30e4-328c-4898-b842-2523ca1c9a59",
   "metadata": {},
   "outputs": [],
   "source": []
  },
  {
   "cell_type": "code",
   "execution_count": null,
   "id": "7db0fe85-9e21-4c6a-b1bb-1fc80e360ebd",
   "metadata": {},
   "outputs": [],
   "source": [
    "# score_ranges = {\n",
    "#     \"cosine\": (-1, 1),\n",
    "#     \"levenshtein\": (0, 15500),\n",
    "#     \"rouge1\": (0, 1),\n",
    "#     \"rouge2\": (0, 1),\n",
    "#     \"rougeL\": (0, 1),\n",
    "#     \"min-k\": (0, 20)\n",
    "# }"
   ]
  },
  {
   "cell_type": "code",
   "execution_count": null,
   "id": "8962fbd5-0c5e-40f3-9390-07db97120eeb",
   "metadata": {},
   "outputs": [],
   "source": [
    "# score_types = {\n",
    "#     'cos_sim_scores': 'cosine',\n",
    "#     'levenshtein_distance': 'levenshtein',\n",
    "#     'rouge1_precision': 'rouge1',\n",
    "#     'rouge1_recall': 'rouge1',\n",
    "#     'rouge1_f1': 'rouge1',\n",
    "#     'rouge2_precision': 'rouge2',\n",
    "#     'rouge2_recall': 'rouge2',\n",
    "#     'rouge2_f1': 'rouge2',\n",
    "#     'rougeL_precision': 'rougeL',\n",
    "#     'rougeL_recall': 'rougeL',\n",
    "#     'rougeL_f1': 'rougeL',\n",
    "#     'Min_10.0%_Prob': \"min-k\",\n",
    "#     'Min_20.0%_Prob': \"min-k\",\n",
    "#     'Min_30.0%_Prob': \"min-k\",\n",
    "#     'Min_40.0%_Prob': \"min-k\",\n",
    "#     'Min_50.0%_Prob': \"min-k\"\n",
    "# }\n"
   ]
  },
  {
   "cell_type": "code",
   "execution_count": null,
   "id": "0b699290-cd63-48bd-87d8-371be7a75322",
   "metadata": {},
   "outputs": [],
   "source": [
    "# # loop over scores\n",
    "# for score in score_names:\n",
    "#     # determine score type and plot range\n",
    "#     st = score_types[score]\n",
    "#     sr = score_ranges[st]\n",
    "\n",
    "#     # loop over series and models\n",
    "#     for series_name, models in series.items(): \n",
    "#         plt.figure(figsize=(8, 5))\n",
    "#         plt.title(f\"{score} for {series_name.title()}\")\n",
    "        \n",
    "#         means = [df_means[m][score][0] for m in models]\n",
    "#         std_devs = [df_means[m][score][1] for m in models]\n",
    "        \n",
    "#         # Plot with error bars\n",
    "#         plt.errorbar(models, means, yerr=std_devs, capsize=5, marker='o', linestyle='-',\n",
    "#                      color=colors.get(score, \"black\"))\n",
    "\n",
    "#         plt.xlabel(\"Model\")\n",
    "#         plt.ylabel(\"Value\")\n",
    "#         plt.xticks(rotation=45)\n",
    "#         plt.ylim(sr[0], sr[1])  # Assuming values are between 0 and 1\n",
    "#         plt.grid(axis='y', linestyle='--', alpha=0.7)\n",
    "        \n",
    "#         plt.show()  # Show the plot for each metric within the category\n",
    "    "
   ]
  }
 ],
 "metadata": {
  "kernelspec": {
   "display_name": "Python 3 (ipykernel)",
   "language": "python",
   "name": "python3"
  },
  "language_info": {
   "codemirror_mode": {
    "name": "ipython",
    "version": 3
   },
   "file_extension": ".py",
   "mimetype": "text/x-python",
   "name": "python",
   "nbconvert_exporter": "python",
   "pygments_lexer": "ipython3",
   "version": "3.10.0"
  }
 },
 "nbformat": 4,
 "nbformat_minor": 5
}
