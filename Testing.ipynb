{
 "cells": [
  {
   "cell_type": "code",
   "execution_count": 1,
   "metadata": {},
   "outputs": [],
   "source": [
    "import numpy as np\n",
    "import torch\n",
    "from ollama import Options\n",
    "from ModelHelpers import OllamaModel, OllamaInference\n",
    "from SimilarityHelpers import get_cos_similarity_score, get_rouge_scores\n",
    "from sentence_transformers import SentenceTransformer\n",
    "from detect_pretraining import PretrainingDetector"
   ]
  },
  {
   "cell_type": "code",
   "execution_count": 2,
   "metadata": {},
   "outputs": [
    {
     "data": {
      "text/plain": [
       "{5: {'score': -8.350851058959961,\n",
       "  'min_k_tokens': [(' test', -8.350851058959961)]},\n",
       " 10: {'score': -8.350851058959961,\n",
       "  'min_k_tokens': [(' test', -8.350851058959961)]},\n",
       " 20: {'score': -8.350851058959961,\n",
       "  'min_k_tokens': [(' test', -8.350851058959961)]},\n",
       " 30: {'score': -7.15202260017395,\n",
       "  'min_k_tokens': [(' test', -8.350851058959961),\n",
       "   (' sentence', -5.9531941413879395)]}}"
      ]
     },
     "execution_count": 2,
     "metadata": {},
     "output_type": "execute_result"
    }
   ],
   "source": [
    "# Initialize detector\n",
    "detector = PretrainingDetector(\"HuggingFaceTB/SmolLM2-135M-Instruct\")\n",
    "\n",
    "# Example text\n",
    "text = \"This is a test sentence to analyze.\"\n",
    "\n",
    "# Get score and min-k tokens\n",
    "detector.batch_k_analysis(text)"
   ]
  },
  {
   "cell_type": "code",
   "execution_count": null,
   "metadata": {},
   "outputs": [],
   "source": [
    "# Example usage\n",
    "ollama_client = OllamaInference()\n",
    "options = Options()\n",
    "options.temperature = 0.0\n",
    "\n",
    "ollama_client.predict(OllamaModel.GEMMA2B, \"test\",    options)\n"
   ]
  },
  {
   "cell_type": "code",
   "execution_count": 6,
   "metadata": {},
   "outputs": [],
   "source": [
    "embedder = SentenceTransformer('all-MiniLM-L6-v2')"
   ]
  },
  {
   "cell_type": "code",
   "execution_count": 10,
   "metadata": {},
   "outputs": [],
   "source": [
    "gold = embedder.encode(np.array([\"The study showed significant improvements in patient outcomes.\"]), convert_to_tensor=True)\n",
    "test = embedder.encode(np.array([\"The study showed significant improvements in patient outcomes.\"]), convert_to_tensor=True)\n",
    "testB = embedder.encode(np.array([\"TURN DOWN FOR WHAT\"]), convert_to_tensor=True)\n"
   ]
  },
  {
   "cell_type": "code",
   "execution_count": null,
   "metadata": {},
   "outputs": [],
   "source": [
    "get_cos_similarity_score(gold, test)\n"
   ]
  },
  {
   "cell_type": "code",
   "execution_count": null,
   "metadata": {},
   "outputs": [],
   "source": [
    "get_cos_similarity_score(gold, testB)"
   ]
  },
  {
   "cell_type": "code",
   "execution_count": null,
   "metadata": {},
   "outputs": [],
   "source": [
    "get_rouge_scores(\"WE BE TESTING THE ROUGE SCORES NOW\", \"WE BE TESTING THE ROUGE SCORES NOW FOR REAL\")"
   ]
  },
  {
   "cell_type": "code",
   "execution_count": null,
   "metadata": {},
   "outputs": [],
   "source": []
  }
 ],
 "metadata": {
  "kernelspec": {
   "display_name": "venv",
   "language": "python",
   "name": "python3"
  },
  "language_info": {
   "codemirror_mode": {
    "name": "ipython",
    "version": 3
   },
   "file_extension": ".py",
   "mimetype": "text/x-python",
   "name": "python",
   "nbconvert_exporter": "python",
   "pygments_lexer": "ipython3",
   "version": "3.11.9"
  }
 },
 "nbformat": 4,
 "nbformat_minor": 2
}
