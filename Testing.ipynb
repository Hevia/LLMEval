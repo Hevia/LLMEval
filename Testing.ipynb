{
 "cells": [
  {
   "cell_type": "code",
   "execution_count": 1,
   "metadata": {},
   "outputs": [],
   "source": [
    "from enum import Enum\n",
    "from typing import List\n",
    "from ollama import chat\n",
    "from ollama import ChatResponse"
   ]
  },
  {
   "cell_type": "code",
   "execution_count": null,
   "metadata": {},
   "outputs": [],
   "source": [
    "\n",
    "\n",
    "\n",
    "\n",
    "class OllamaModel(Enum):\n",
    "    \"\"\"\n",
    "    Models supported by Ollama we can use for testing.\n",
    "    We picked models that come in multiple sizes.\n",
    "    We ideally picked the latest version of each model if that version and had multiple sizes.\n",
    "    - https://ollama.com/library/gemma\n",
    "    - https://ollama.com/library/qwen2.5\n",
    "    - https://ollama.com/library/phi3\n",
    "    - https://ollama.com/library/vicuna\n",
    "    - https://ollama.com/library/smollm2\n",
    "    - https://ollama.com/library/aya\n",
    "    - https://ollama.com/library/stablelm2\n",
    "    - https://ollama.com/library/llama3.2\n",
    "    - https://ollama.com/library/llama2\n",
    "    - https://ollama.com/library/deepseek-r1\n",
    "    - https://ollama.com/library/falcon3\n",
    "    \"\"\"\n",
    "\n",
    "    GEMMA2B = \"gemma:2b\"\n",
    "    GEMMA7B = \"gemma:7b\"\n",
    "    \n",
    "    \n",
    "    def __str__(self):\n",
    "        return self.value\n",
    "\n",
    "\n",
    "class OllamaInference:\n",
    "    def predict(self, model: OllamaModel, prompt: str) -> str:\n",
    "        response: ChatResponse = chat(model=model, messages=[\n",
    "        {\n",
    "        'role': 'user',\n",
    "        'content': prompt\n",
    "        },\n",
    "        ])\n",
    "\n",
    "        return response.message.content\n",
    "\n",
    "    def predict_batch(self, model: OllamaModel, prompts: List[str]) -> List[str]:\n",
    "        pass\n",
    "\n"
   ]
  }
 ],
 "metadata": {
  "kernelspec": {
   "display_name": "venv",
   "language": "python",
   "name": "python3"
  },
  "language_info": {
   "codemirror_mode": {
    "name": "ipython",
    "version": 3
   },
   "file_extension": ".py",
   "mimetype": "text/x-python",
   "name": "python",
   "nbconvert_exporter": "python",
   "pygments_lexer": "ipython3",
   "version": "3.11.9"
  }
 },
 "nbformat": 4,
 "nbformat_minor": 2
}
